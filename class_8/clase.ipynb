{
 "cells": [
  {
   "cell_type": "code",
   "execution_count": 33,
   "metadata": {},
   "outputs": [
    {
     "name": "stdout",
     "output_type": "stream",
     "text": [
      "a [1, 2, 3, 4]\n",
      "c [1, 2, 3, ['blame', 'baf'], 8, ['azul', 'naranjo', ['aviones', 'mar']]]\n",
      "False\n"
     ]
    }
   ],
   "source": [
    "import copy\n",
    "# INMUTABILIDAD / MUTABILIDAD DE DATOS\n",
    "# Ejecicios mental\n",
    "\n",
    "a = [1, 2, 3]\n",
    "b = a\n",
    "# b = list(a)\n",
    "b.append(4)\n",
    "print('a', a)\n",
    "# que me va a printear a ?\n",
    "\n",
    "# Esto se hace especialmente complejo en escenarios donde tenemos por ejemplo\n",
    "c = [1, 2, 3, ['blame', 'baf'], 8, ['azul', 'naranjo', ['aviones', 'mar']]]\n",
    "d = copy.deepcopy(c)\n",
    "d[3][1] = 'hazer'\n",
    "print('c', c)\n",
    "\n",
    "## Conclusion\n",
    "f = []\n",
    "g = list(f)\n",
    "print(f is g)\n",
    "# true or false?\n",
    "\n",
    "### En javascript para esto hay dos tipos de igualidad\n",
    "# == (dos '=') shallow equality, por ejemplo '3' == 3 dara True\n",
    "# === (tres '=') strict equality, donde '3' === 3 dara False\n",
    "\n",
    "# misma historia con los diccionarios\n",
    "# k = {}\n",
    "# l = k\n",
    "# print(k is l)"
   ]
  },
  {
   "cell_type": "code",
   "execution_count": 80,
   "metadata": {},
   "outputs": [
    {
     "data": {
      "text/plain": [
       "type"
      ]
     },
     "execution_count": 80,
     "metadata": {},
     "output_type": "execute_result"
    }
   ],
   "source": [
    "# Classes o mas bien programacion orientada a objetos\n",
    "\n",
    "class Person:\n",
    "    def __init__(self, name, age, race):\n",
    "        self.name = name\n",
    "        self.age = age\n",
    "        self.race = race\n",
    "\n",
    "    def saluda(self):\n",
    "        return f\"Hola, soy un {self.race} y mi nombre es {self.name} y tengo {self.age} años\"\n",
    "\n",
    "\n",
    "class Asian(Person):\n",
    "    def hi(self):\n",
    "        return f\"Xi xao xi, {self.saluda()} y sumo {self.suma(8,9)}\"\n",
    "\n",
    "    def suma(self, a, b):\n",
    "        return f\"soy {self.name} y sume {a+b}\"\n",
    "\n",
    "\n",
    "\n",
    "a = Person('Felipe', 32, 'Homo sapiens')\n",
    "b = Asian('Lee sin', 94, 'Homo sapiens')\n",
    "\n",
    "\n",
    "# print(b.hi())\n",
    "\n",
    "type(Person)\n"
   ]
  },
  {
   "cell_type": "code",
   "execution_count": 67,
   "metadata": {},
   "outputs": [
    {
     "name": "stdout",
     "output_type": "stream",
     "text": [
      "\n",
      "None\n"
     ]
    }
   ],
   "source": [
    "print(print())"
   ]
  },
  {
   "cell_type": "code",
   "execution_count": null,
   "metadata": {},
   "outputs": [],
   "source": []
  }
 ],
 "metadata": {
  "interpreter": {
   "hash": "916dbcbb3f70747c44a77c7bcd40155683ae19c65e1c03b4aa3499c5328201f1"
  },
  "kernelspec": {
   "display_name": "Python 3.9.5 64-bit",
   "language": "python",
   "name": "python3"
  },
  "language_info": {
   "codemirror_mode": {
    "name": "ipython",
    "version": 3
   },
   "file_extension": ".py",
   "mimetype": "text/x-python",
   "name": "python",
   "nbconvert_exporter": "python",
   "pygments_lexer": "ipython3",
   "version": "3.9.5"
  },
  "orig_nbformat": 4
 },
 "nbformat": 4,
 "nbformat_minor": 2
}
