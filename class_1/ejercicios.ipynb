{
 "cells": [
  {
   "cell_type": "code",
   "execution_count": null,
   "metadata": {},
   "outputs": [],
   "source": [
    "# Declara 3 variables STRING\n",
    "# cada una respresentante de un sustantivo en español en plural\n",
    "#  (gatos, diputados, etc.).\n",
    "# printea esas tres variables\n",
    "# CODIGO ACA\n"
   ]
  },
  {
   "cell_type": "code",
   "execution_count": null,
   "metadata": {},
   "outputs": [],
   "source": [
    "# Usando la siguiente variable \"frase\" printea a la consola la frase\n",
    "# concatenada a cada una de las variables declaradas en minúscula.\n",
    "# Usa concatenacion con el sigmo + y al menos uno usando el \"f\" string.\n",
    "# Ejemplo: 'todos nosotros somos amigos de los animales'\n",
    "frase = \"TODOS NOSOTROS SOMOS AMIGOS DE LOS\"\n",
    "# CODIGO ACA\n"
   ]
  },
  {
   "cell_type": "code",
   "execution_count": null,
   "metadata": {},
   "outputs": [],
   "source": [
    "# Ahora declara 3 variables numéricas distintas\n",
    "# Printea la mismas tres frases que hiciste anteriormente pero esta vez agregale a cada uno al final una variable numerica.\n",
    "# Ejemplo: 'todos nosotros somos amigos de los animales y yo conozco 4'\n",
    "# CODIGO ACA\n"
   ]
  },
  {
   "cell_type": "code",
   "execution_count": null,
   "metadata": {},
   "outputs": [],
   "source": [
    "# Ahora declara otra variable que es la suma de las tres variables numericas anteriores.\n",
    "# Luego declara otra variable con la siguiente frase inyectando la cantidad que dio la suma:\n",
    "# Ejemplo: \"todos nosotros somos 169 amigos\"\n",
    "# CODIGO ACA\n",
    "\n"
   ]
  },
  {
   "cell_type": "code",
   "execution_count": null,
   "metadata": {},
   "outputs": [],
   "source": [
    "# Ahora queremos hacer que esa frase sea inclusiva, printea la misma frase en mayuscula\n",
    "# pero remplaza todos los 'os' por 'es'\n",
    "# Guarda esta nueva frase en otra variable llamada \"frase_inclusiva\"\n",
    "# Ejemplo: TODES NESTRES SOMOS 169 AMIGES\"\n",
    "# CODIGO ACA\n",
    "\n"
   ]
  },
  {
   "cell_type": "code",
   "execution_count": null,
   "metadata": {},
   "outputs": [],
   "source": [
    "# Ahora demuestra con un print que esa frase inclusiva efectivamente esta en mayuscula\n",
    "# Resultado esperado: True\n",
    "# CODIGO ACA\n",
    "\n"
   ]
  },
  {
   "cell_type": "code",
   "execution_count": null,
   "metadata": {},
   "outputs": [],
   "source": [
    "# Ahora demuestra con un print que esa frase inclusiva efectivmente no esta en mayuscula\n",
    "# CODIGO ACA\n",
    "\n"
   ]
  },
  {
   "cell_type": "code",
   "execution_count": null,
   "metadata": {},
   "outputs": [],
   "source": [
    "# printea el largo que tiene la frase inclusiva\n",
    "## CODIGO ACA\n",
    "\n"
   ]
  },
  {
   "cell_type": "code",
   "execution_count": null,
   "metadata": {},
   "outputs": [],
   "source": [
    "# Declara una variable string, una float y una int y demuestra que son de ese tipo\n",
    "# CODIGO ACA\n"
   ]
  },
  {
   "cell_type": "code",
   "execution_count": null,
   "metadata": {},
   "outputs": [],
   "source": [
    "lenguaje = 'python'\n",
    "# Extrae los primeros dos caracteres de esta variable y printealos\n",
    "# De meanera que el resultado sea : 'py' \n",
    "# Luego agregale el ultimo caracter de la variable\n",
    "# De manera que el resultado sea: 'pyn'\n",
    "# CODIGO ACA\n"
   ]
  },
  {
   "cell_type": "code",
   "execution_count": null,
   "metadata": {},
   "outputs": [],
   "source": [
    "word = 'animal'\n",
    "# Demuestrame que el largo de la variable \"lenguaje\" \n",
    "# es igual al largo la variable \"word\":\n",
    "# CODIGO ACA\n"
   ]
  },
  {
   "cell_type": "code",
   "execution_count": null,
   "metadata": {},
   "outputs": [],
   "source": [
    "word2 = \"amazing\"\n",
    "# demuestra que el largo de la variable \"word2\"\n",
    "# es mayor que el largo de la variable \"word\":\n"
   ]
  },
  {
   "cell_type": "code",
   "execution_count": null,
   "metadata": {},
   "outputs": [],
   "source": [
    "word3 = \"small\"\n",
    "# demuestra el largo de la variable \"word3\"\n",
    "# es menor que el largo de la variable \"word2\":\n"
   ]
  }
 ],
 "metadata": {
  "interpreter": {
   "hash": "916dbcbb3f70747c44a77c7bcd40155683ae19c65e1c03b4aa3499c5328201f1"
  },
  "kernelspec": {
   "display_name": "Python 3.9.5 64-bit",
   "language": "python",
   "name": "python3"
  },
  "language_info": {
   "codemirror_mode": {
    "name": "ipython",
    "version": 3
   },
   "file_extension": ".py",
   "mimetype": "text/x-python",
   "name": "python",
   "nbconvert_exporter": "python",
   "pygments_lexer": "ipython3",
   "version": "3.9.5"
  },
  "orig_nbformat": 4
 },
 "nbformat": 4,
 "nbformat_minor": 2
}
