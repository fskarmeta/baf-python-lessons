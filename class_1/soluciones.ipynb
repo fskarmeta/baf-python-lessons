{
 "cells": [
  {
   "cell_type": "code",
   "execution_count": null,
   "metadata": {},
   "outputs": [],
   "source": []
  },
  {
   "cell_type": "code",
   "execution_count": 1,
   "metadata": {},
   "outputs": [
    {
     "name": "stdout",
     "output_type": "stream",
     "text": [
      "diputados senadores gatitos\n"
     ]
    }
   ],
   "source": [
    "# Declara 3 variables STRING\n",
    "# cada una respresentante de un sustantivo en español en plural\n",
    "#  (gatos, diputados, etc.).\n",
    "# printea esas tres variables\n",
    "# CODIGO ACA\n",
    "\n",
    "var_1 = \"diputados\"\n",
    "var_2 = \"senadores\"\n",
    "var_3 = \"gatitos\"\n",
    "\n",
    "print(var_1, var_2, var_3)"
   ]
  },
  {
   "cell_type": "code",
   "execution_count": 5,
   "metadata": {},
   "outputs": [
    {
     "name": "stdout",
     "output_type": "stream",
     "text": [
      "todos nosotros somos amigos de los diputados\n",
      "todos nosotros somos amigos de los senadores\n",
      "todos nosotros somos amigos de los gatitos\n"
     ]
    }
   ],
   "source": [
    "# Usando la siguiente variable \"frase\" printea a la consola la frase\n",
    "# concatenada a cada una de las variables declaradas en minúscula.\n",
    "# Usa concatenacion con el sigmo + y al menos uno usando el \"f\" string.\n",
    "# Ejemplo: 'todos nosotros somos amigos de los animales'\n",
    "frase = \"TODOS NOSOTROS SOMOS AMIGOS DE LOS\"\n",
    "# CODIGO ACA\n",
    "\n",
    "nueva_frase1 = f\"{frase.lower()} {var_1}\"\n",
    "nueva_frase2 = f\"{frase.lower()} {var_2}\"\n",
    "nueva_frase3 = f\"{frase.lower()} {var_3}\"\n",
    "print(nueva_frase1)\n",
    "print(nueva_frase2)\n",
    "print(nueva_frase3)"
   ]
  },
  {
   "cell_type": "code",
   "execution_count": 9,
   "metadata": {},
   "outputs": [
    {
     "name": "stdout",
     "output_type": "stream",
     "text": [
      "todos nosotros somos amigos de los diputados 8\n",
      "todos nosotros somos amigos de los senadores 19\n",
      "todos nosotros somos amigos de los gatitos 69\n"
     ]
    }
   ],
   "source": [
    "# Ahora declara 3 variables numéricas distintas\n",
    "# Printea la mismas tres frases que hiciste anteriormente pero esta vez agregale a cada uno al final una variable numerica.\n",
    "# Ejemplo: 'todos nosotros somos amigos de los animales y yo conozco 4'\n",
    "# CODIGO ACA\n",
    "num_1 = 8\n",
    "num_2 = 19\n",
    "num_3 = 69\n",
    "print(f\"{nueva_frase1} {num_1}\")\n",
    "print(nueva_frase2 + ' ' + str(num_2))\n",
    "print(nueva_frase3 + ' ' + str(num_3))\n"
   ]
  },
  {
   "cell_type": "code",
   "execution_count": 10,
   "metadata": {},
   "outputs": [
    {
     "name": "stdout",
     "output_type": "stream",
     "text": [
      "todos nosotros somos 96 amigos\n"
     ]
    }
   ],
   "source": [
    "# Ahora declara otra variable que es la suma de las tres variables numericas anteriores.\n",
    "# Luego declara otra variable con la siguiente frase inyectando la cantidad que dio la suma:\n",
    "# Ejemplo: \"todos nosotros somos 169 amigos\"\n",
    "# CODIGO ACA\n",
    "frase_amigos = f\"todos nosotros somos {num_1 + num_2 + num_3} amigos\"\n",
    "print(frase_amigos)\n"
   ]
  },
  {
   "cell_type": "code",
   "execution_count": 14,
   "metadata": {},
   "outputs": [
    {
     "name": "stdout",
     "output_type": "stream",
     "text": [
      "TODES NESOTRES SOMES 96 AMIGES\n"
     ]
    }
   ],
   "source": [
    "# Ahora queremos hacer que esa frase sea inclusiva, printea la misma frase en mayuscula\n",
    "# pero remplaza todos los 'os' por 'es'\n",
    "# Guarda esta nueva frase en otra variable llamada \"frase_inclusiva\"\n",
    "# Ejemplo: TODES NESTRES SOMOS 169 AMIGES\"\n",
    "# CODIGO ACA\n",
    "\n",
    "frase_inclusiva = frase_amigos.replace('os', 'es').upper()\n",
    "print(frase_inclusiva)\n"
   ]
  },
  {
   "cell_type": "code",
   "execution_count": 17,
   "metadata": {},
   "outputs": [
    {
     "name": "stdout",
     "output_type": "stream",
     "text": [
      "True\n"
     ]
    }
   ],
   "source": [
    "# Ahora demuestra con un print que esa frase inclusiva efectivamente esta en mayuscula\n",
    "# Resultado esperado: True\n",
    "# CODIGO ACA\n",
    "\n",
    "print(frase_inclusiva.isupper())"
   ]
  },
  {
   "cell_type": "code",
   "execution_count": 19,
   "metadata": {},
   "outputs": [
    {
     "name": "stdout",
     "output_type": "stream",
     "text": [
      "False\n",
      "False\n"
     ]
    }
   ],
   "source": [
    "# Ahora demuestra con un print que esa frase inclusiva efectivmente no esta en mayuscula\n",
    "# CODIGO ACA\n",
    "\n",
    "print(not frase_inclusiva.isupper())\n",
    "print(frase_inclusiva.islower())"
   ]
  },
  {
   "cell_type": "code",
   "execution_count": 20,
   "metadata": {},
   "outputs": [
    {
     "name": "stdout",
     "output_type": "stream",
     "text": [
      "30\n"
     ]
    }
   ],
   "source": [
    "# printea el largo que tiene la frase inclusiva\n",
    "## CODIGO ACA\n",
    "\n",
    "print(len(frase_inclusiva))"
   ]
  },
  {
   "cell_type": "code",
   "execution_count": 21,
   "metadata": {},
   "outputs": [
    {
     "name": "stdout",
     "output_type": "stream",
     "text": [
      "<class 'str'>\n",
      "<class 'int'>\n",
      "<class 'float'>\n"
     ]
    }
   ],
   "source": [
    "# Declara una variable string, una float y una int y demuestra que son de ese tipo\n",
    "# CODIGO ACA\n",
    "\n",
    "a = \"goli\"\n",
    "b = 3\n",
    "c = 2.3\n",
    "\n",
    "print(type(a))\n",
    "print(type(b))\n",
    "print(type(c))"
   ]
  },
  {
   "cell_type": "code",
   "execution_count": 28,
   "metadata": {},
   "outputs": [
    {
     "name": "stdout",
     "output_type": "stream",
     "text": [
      "pyn\n"
     ]
    }
   ],
   "source": [
    "lenguaje = 'python'\n",
    "# Extrae los primeros dos caracteres de esta variable y printealos\n",
    "# De meanera que el resultado sea : 'py' \n",
    "# Luego agregale el ultimo caracter de la variable\n",
    "# De manera que el resultado sea: 'pyn'\n",
    "# CODIGO ACA\n",
    "\n",
    "new_language = lenguaje[0:2] + lenguaje[len(lenguaje) - 1]\n",
    "print(new_language)"
   ]
  },
  {
   "cell_type": "code",
   "execution_count": 29,
   "metadata": {},
   "outputs": [
    {
     "name": "stdout",
     "output_type": "stream",
     "text": [
      "True\n"
     ]
    }
   ],
   "source": [
    "word = 'animal'\n",
    "# Demuestrame que el largo de la variable \"lenguaje\" \n",
    "# es igual al largo la variable \"word\":\n",
    "# CODIGO ACA\n",
    "print(len(lenguaje) == len(word))"
   ]
  },
  {
   "cell_type": "code",
   "execution_count": 30,
   "metadata": {},
   "outputs": [
    {
     "name": "stdout",
     "output_type": "stream",
     "text": [
      "True\n"
     ]
    }
   ],
   "source": [
    "word2 = \"amazing\"\n",
    "# demuestra que el largo de la variable \"word2\"\n",
    "# es mayor que el largo de la variable \"word\":\n",
    "print(len(word2) > len(word))"
   ]
  },
  {
   "cell_type": "code",
   "execution_count": 31,
   "metadata": {},
   "outputs": [
    {
     "name": "stdout",
     "output_type": "stream",
     "text": [
      "True\n"
     ]
    }
   ],
   "source": [
    "word3 = \"small\"\n",
    "# demuestra el largo de la variable \"word3\"\n",
    "# es menor que el largo de la variable \"word2\":\n",
    "print(len(word3) < len(word2))"
   ]
  },
  {
   "cell_type": "code",
   "execution_count": null,
   "metadata": {},
   "outputs": [],
   "source": []
  }
 ],
 "metadata": {
  "interpreter": {
   "hash": "916dbcbb3f70747c44a77c7bcd40155683ae19c65e1c03b4aa3499c5328201f1"
  },
  "kernelspec": {
   "display_name": "Python 3.9.5 64-bit",
   "language": "python",
   "name": "python3"
  },
  "language_info": {
   "codemirror_mode": {
    "name": "ipython",
    "version": 3
   },
   "file_extension": ".py",
   "mimetype": "text/x-python",
   "name": "python",
   "nbconvert_exporter": "python",
   "pygments_lexer": "ipython3",
   "version": "3.9.5"
  },
  "orig_nbformat": 4
 },
 "nbformat": 4,
 "nbformat_minor": 2
}
