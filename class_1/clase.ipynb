{
 "cells": [
  {
   "cell_type": "code",
   "execution_count": 20,
   "metadata": {},
   "outputs": [
    {
     "name": "stdout",
     "output_type": "stream",
     "text": [
      "<class 'str'>\n",
      "<class 'int'>\n",
      "<class 'int'>\n"
     ]
    }
   ],
   "source": [
    "# numeros -> \n",
    "# 3 => Int \n",
    "# 3.0 => Float\n",
    "# 3 + 3 => 6\n",
    "\n",
    "numero1 = 3\n",
    "numero2 = 2\n",
    "numero3decimal = 2.3\n",
    "\n",
    "mi_suma = 3 + 2\n",
    "mi_resta = 3 - 2\n",
    "mi_multiplicacion = 3 * 2\n",
    "mi_division = 3 / 2\n",
    "\n",
    "# String -> 'hola' \n",
    "# String -> \"hola a todos\"]\n",
    "\n",
    "mi_nombre = \"fabian\"\n",
    "\n",
    "frase1 = \"Hola Mundo, hoy es un dia\"\n",
    "frase2 = \"hermoso y el dia del mes es\"\n",
    "dia_mes = 24\n",
    "\n",
    "# str()\n",
    "# int()\n",
    "\n",
    "# print(frase1 + \" \" + frase2 + \" \" + str(dia_mes))\n",
    "\n",
    "a = '8'\n",
    "\n",
    "b = '61'\n",
    "\n",
    "prueba1 = a + b\n",
    "print(type(prueba1))\n",
    "\n",
    "prueba2 = int(a) + int(b)\n",
    "print(type(prueba2))\n",
    "\n",
    "prueba3 = int(a + b)\n",
    "print(type(prueba3))\n",
    "\n",
    "\n",
    "# type()\n"
   ]
  },
  {
   "cell_type": "code",
   "execution_count": 1,
   "metadata": {},
   "outputs": [
    {
     "name": "stdout",
     "output_type": "stream",
     "text": [
      "hola mundo\n"
     ]
    }
   ],
   "source": [
    "# Concantenacion de Strings con operador +\n",
    "\n",
    "a = \"hola\"\n",
    "b = \"mundo\"\n",
    "\n",
    "print(f\"{a} {b}\")"
   ]
  },
  {
   "cell_type": "code",
   "execution_count": 76,
   "metadata": {},
   "outputs": [
    {
     "name": "stdout",
     "output_type": "stream",
     "text": [
      "hola a todos los chiques quiero que sepan, que\n"
     ]
    }
   ],
   "source": [
    "# type(), int()\n",
    "\n",
    "# len()\n",
    "\n",
    "variable1 = \"hola a todos los chiques\"\n",
    "variable2 = \"me caen muy bien\"\n",
    "lenVar1 = len(variable1 + variable2)\n",
    "\n",
    "frase = variable1 + ' ' + 'quiero que sepan, que'\n",
    "print(frase)"
   ]
  },
  {
   "cell_type": "code",
   "execution_count": 80,
   "metadata": {},
   "outputs": [
    {
     "name": "stdout",
     "output_type": "stream",
     "text": [
      "WeNa cabreeess\n",
      "True\n"
     ]
    }
   ],
   "source": [
    "# upper(), lower(), isupper(), islower()\n",
    "\n",
    "# upper()\n",
    "\n",
    "x = \"hola\"\n",
    "b = \"todos\"\n",
    "# print(f\"{x} {b.upper()}\")\n",
    "z = \"WeNa cabreeess QUE tal\"\n",
    "# print(z.lower())\n",
    "# y = z[0].isupper()\n",
    "# print((z[0] + z[5]).upper().islower())\n",
    "j = z[0:-8]\n",
    "print(j)\n",
    "\n",
    "\n",
    "n = \"hola\"\n",
    "m = \"hola\"\n",
    "print(n == m)\n",
    "\n"
   ]
  },
  {
   "cell_type": "code",
   "execution_count": null,
   "metadata": {},
   "outputs": [],
   "source": []
  }
 ],
 "metadata": {
  "interpreter": {
   "hash": "916dbcbb3f70747c44a77c7bcd40155683ae19c65e1c03b4aa3499c5328201f1"
  },
  "kernelspec": {
   "display_name": "Python 3.9.5 64-bit",
   "language": "python",
   "name": "python3"
  },
  "language_info": {
   "codemirror_mode": {
    "name": "ipython",
    "version": 3
   },
   "file_extension": ".py",
   "mimetype": "text/x-python",
   "name": "python",
   "nbconvert_exporter": "python",
   "pygments_lexer": "ipython3",
   "version": "3.9.5"
  },
  "orig_nbformat": 4
 },
 "nbformat": 4,
 "nbformat_minor": 2
}
