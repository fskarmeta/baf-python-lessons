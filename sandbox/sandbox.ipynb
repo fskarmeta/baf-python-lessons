{
 "cells": [
  {
   "cell_type": "code",
   "execution_count": 17,
   "metadata": {},
   "outputs": [
    {
     "name": "stdout",
     "output_type": "stream",
     "text": [
      "4\n"
     ]
    }
   ],
   "source": [
    "a = \"Juan\"\n",
    "mi_primera_lista = ['alfa', 3, 2.3, [1,2,3], 'pendejo', a]\n",
    "segundo_char_del_primer_el = []\n",
    "print(segundo_char_del_primer_el)"
   ]
  },
  {
   "cell_type": "code",
   "execution_count": 20,
   "metadata": {},
   "outputs": [
    {
     "name": "stdout",
     "output_type": "stream",
     "text": [
      "hazer-blame-baf\n"
     ]
    }
   ],
   "source": [
    "# otra_lista\n",
    "otra_lista = [\"hazer\", \"blame\", \"baf\"]\n",
    "\n",
    "# juntar elementos de lista en un string con join(), primero declaro con que lo quiero juntar.\n",
    "mi_lista_junta_como_string = '-'.join(otra_lista)\n",
    "print(mi_lista_junta_como_string) # str"
   ]
  },
  {
   "cell_type": "code",
   "execution_count": 26,
   "metadata": {},
   "outputs": [
    {
     "name": "stdout",
     "output_type": "stream",
     "text": [
      "['claudia', 'bafian', 'blameses', 'lukases', 'titors', 'hazer']\n"
     ]
    }
   ],
   "source": [
    "un_string = \"claudia, bafian, blameses, lukases, titors, hazer\"\n",
    "una_lista_del_string = un_string.split(', ')\n",
    "print(una_lista_del_string)"
   ]
  },
  {
   "cell_type": "code",
   "execution_count": 35,
   "metadata": {},
   "outputs": [
    {
     "data": {
      "text/plain": [
       "array([[ 1,  3,  4,  6,  8, 10, 12, 15],\n",
       "       [ 2,  4,  5,  7,  9, 11, 13, 16]])"
      ]
     },
     "execution_count": 35,
     "metadata": {},
     "output_type": "execute_result"
    }
   ],
   "source": [
    "import numpy as np\n",
    "matrix = [[1,2], [3,4], [4,5], [6,7], [8,9], [10,11], [12,13], [15,16]]\n",
    "np.array(matrix).T"
   ]
  },
  {
   "cell_type": "code",
   "execution_count": 55,
   "metadata": {},
   "outputs": [
    {
     "name": "stdout",
     "output_type": "stream",
     "text": [
      "['trucho', 'blame']\n"
     ]
    }
   ],
   "source": [
    "lista_a = ['blame', 'trucho']\n",
    "# mi_variable_temporal = mi_nueva_lista2[1]\n",
    "# mi_nueva_lista2[1] = mi_nueva_lista2[0]\n",
    "# mi_nueva_lista2[0] = mi_variable_temporal\n",
    "# x = ' '.join(mi_nueva_lista2)\n",
    "# y = x.replace('blame', 'trucho').replace('trucho', 'blame')\n",
    "# print(y)\n",
    "# a = lista_a[0]\n",
    "# b = lista_a[1]\n",
    "\n",
    "# lista_a[0],lista_a[1] = lista_a[1], lista_a[0]\n",
    "# print(lista_a) \n",
    "# una_variable_temporal = mi_nueva_lista2[0]\n",
    "# mi_nueva_lista2[0] = mi_nueva_lista2[1]\n",
    "\n"
   ]
  },
  {
   "cell_type": "code",
   "execution_count": null,
   "metadata": {},
   "outputs": [],
   "source": []
  }
 ],
 "metadata": {
  "interpreter": {
   "hash": "916dbcbb3f70747c44a77c7bcd40155683ae19c65e1c03b4aa3499c5328201f1"
  },
  "kernelspec": {
   "display_name": "Python 3.9.5 64-bit",
   "language": "python",
   "name": "python3"
  },
  "language_info": {
   "codemirror_mode": {
    "name": "ipython",
    "version": 3
   },
   "file_extension": ".py",
   "mimetype": "text/x-python",
   "name": "python",
   "nbconvert_exporter": "python",
   "pygments_lexer": "ipython3",
   "version": "3.9.5"
  },
  "orig_nbformat": 4
 },
 "nbformat": 4,
 "nbformat_minor": 2
}
