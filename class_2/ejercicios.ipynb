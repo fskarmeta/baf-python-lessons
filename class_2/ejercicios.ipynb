{
 "cells": [
  {
   "cell_type": "code",
   "execution_count": null,
   "metadata": {},
   "outputs": [],
   "source": [
    "# haz un print de que porcentaje de los estudiantes asisten a clases bajo la influencia de la marihuana\n",
    "# el resultado tiene que venir redondeado a su entero mas cercano y seguido de un simobolo \"%\"\n",
    "estudiantes = 5\n",
    "volados = 2\n",
    "## resultado esperado: 40%\n",
    "## codigo aca\n"
   ]
  },
  {
   "cell_type": "code",
   "execution_count": null,
   "metadata": {},
   "outputs": [],
   "source": [
    "# Pregunta si claudia tiene la primera letra de su nombre en mayuscula, y printea \"si\", si es asi y \"no\" de no ser asi \n",
    "# luego declara NUEVAMENTE nombre_claudia de manera que tenga su primers letra en mayuscula (esto sin escribir manualmente \"Claudia\")\n",
    "# pregunta nuevamente si claudia ahora tiene su primera letra en mayuscula\n",
    "nombre_claudia = \"claudia\"\n",
    "# resultado esperado print 1: \"no\"\n",
    "# resultado esperado print 2: \"si\"\n",
    "# codigo aca\n",
    "\n",
    "\n"
   ]
  },
  {
   "cell_type": "code",
   "execution_count": null,
   "metadata": {},
   "outputs": [],
   "source": [
    "# Pregunta si el largo de la variable pajaro1 sumado a uno es igual al largo de la variable pajaro2\n",
    "# Printea \"son iguales\" de ser el caso.\n",
    "# Luego pregunta si la cantidad de 'z' que hay en pajaro1 en minuscula es igual a la cantidad de 'c' en la variable pajaro2 en minuscula.\n",
    "# Printea \"misma cantidad\" si esa condicion se cumple.\n",
    "# finalmente declara nuevamente pajaro2 remplazando los ultimos 3 caracteres de la palabra ('col') por el string ('ita')\n",
    "# haz un print de pajaro2 en minuscula \n",
    "# pregunta nuevamente si la cantidad de z's de la variable pajaro1 en minuscula es igual a la cantidad de c's pajaro2 en minuscula.\n",
    "# printea \"si\" si es el caso.\n",
    "pajaro1 = \"Zorzal\"\n",
    "pajaro2 = \"Chincol\"\n",
    "# resultado esperado print 1: 'son iguales'\n",
    "# resultado esperado print 2: 'misma cantidad'\n",
    "# resultado esperado print 3: 'chinita'\n",
    "# resultado esperado print 4: NADA NO HAY PRINT\n",
    "# codigo aca\n"
   ]
  },
  {
   "cell_type": "code",
   "execution_count": null,
   "metadata": {},
   "outputs": [],
   "source": [
    "# si el precio es mayor a 30 printea 'la wea cara'\n",
    "# de lo contrario, si el precio es menor o igual a 30 pero mayor a 20\n",
    "# printea 'ya piola'\n",
    "# si es menor a 20 printea 'comprado'\n",
    "# Corre tres veces esta celda, una vez con el precio = 40, otro precio = 30, y otro precio = 5\n",
    "# resultados esperado\n",
    "# corrida 1: 'la wea cara'\n",
    "# corrida 2:'ya piola'\n",
    "# corrida 3: 'comprado'\n",
    "# codigo aca"
   ]
  },
  {
   "cell_type": "code",
   "execution_count": null,
   "metadata": {},
   "outputs": [],
   "source": [
    "# crea una variable que da un numero aleatorio entre 1 y 10\n",
    "# luego pregunta si esta variable es menor o igual que 5\n",
    "# de ser menor printea \"chiqutita\" mas el numero que dio la varaibl y de ser mayor printea \"mayorcita\" mas el numero de la variable\n",
    "# corre varias veces esta celda y fijate que el el resultado este variando de manera aleatoria\n"
   ]
  }
 ],
 "metadata": {
  "interpreter": {
   "hash": "916dbcbb3f70747c44a77c7bcd40155683ae19c65e1c03b4aa3499c5328201f1"
  },
  "kernelspec": {
   "display_name": "Python 3.9.5 64-bit",
   "language": "python",
   "name": "python3"
  },
  "language_info": {
   "codemirror_mode": {
    "name": "ipython",
    "version": 3
   },
   "file_extension": ".py",
   "mimetype": "text/x-python",
   "name": "python",
   "nbconvert_exporter": "python",
   "pygments_lexer": "ipython3",
   "version": "3.9.5"
  },
  "orig_nbformat": 4
 },
 "nbformat": 4,
 "nbformat_minor": 2
}
