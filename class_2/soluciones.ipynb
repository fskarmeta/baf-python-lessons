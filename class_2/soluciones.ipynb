{
 "cells": [
  {
   "cell_type": "code",
   "execution_count": 14,
   "metadata": {},
   "outputs": [
    {
     "name": "stdout",
     "output_type": "stream",
     "text": [
      "40%\n",
      "40%\n",
      "hola que tal amigos como estan , 5\n"
     ]
    }
   ],
   "source": [
    "# haz un print de que porcentaje de los estudiantes asisten a clases bajo la influencia de la marihuana\n",
    "# el resultado tiene que venir redondeado a su entero mas cercano y seguido de un simobolo \"%\"\n",
    "estudiantes = 5\n",
    "volados = 2\n",
    "## resultado esperado: 40%\n",
    "## codigo aca\n",
    "\n",
    "print(str(round(volados/estudiantes*100)) + \"%\")\n",
    "print(f\"{round(volados/estudiantes*100)}%\")\n",
    "\n",
    "una_variable = \"{} que tal amigos {} , {}\".format('hola', 'como estan', estudiantes)\n",
    "print(una_variable)"
   ]
  },
  {
   "cell_type": "code",
   "execution_count": 20,
   "metadata": {},
   "outputs": [
    {
     "name": "stdout",
     "output_type": "stream",
     "text": [
      "no\n",
      "claudia\n",
      "Claudia\n",
      "True\n"
     ]
    }
   ],
   "source": [
    "# Pregunta si claudia tiene la primera letra de su nombre en mayuscula, y printea \"si\", si es asi y \"no\" de no ser asi \n",
    "# luego declara NUEVAMENTE nombre_claudia de manera que tenga su primers letra en mayuscula (esto sin escribir manualmente \"Claudia\")\n",
    "# pregunta nuevamente si claudia ahora tiene su primera letra en mayuscula\n",
    "nombre_claudia = \"claudia\"\n",
    "# resultado esperado print 1: \"no\"\n",
    "# resultado esperado print 2: \"si\"\n",
    "# codigo aca\n",
    "\n",
    "if nombre_claudia[0].isupper():\n",
    "    print('si')\n",
    "else:\n",
    "    print('no')\n",
    "\n",
    "\n",
    "print(nombre_claudia)\n",
    "nombre_claudia = nombre_claudia.capitalize()\n",
    "print(nombre_claudia)\n",
    "\n",
    "isFirstLetterUppercase = nombre_claudia[0].isupper()\n",
    "print(isFirstLetterUppercase)\n",
    "\n"
   ]
  },
  {
   "cell_type": "code",
   "execution_count": 29,
   "metadata": {},
   "outputs": [
    {
     "name": "stdout",
     "output_type": "stream",
     "text": [
      "son iguales\n",
      "misma cantidad\n"
     ]
    }
   ],
   "source": [
    "# Pregunta si el largo de la variable pajaro1 sumado a uno es igual al largo de la variable pajaro2\n",
    "# Printea \"son iguales\" de ser el caso.\n",
    "# Luego pregunta si la cantidad de 'z' que hay en pajaro1 en minuscula es igual a la cantidad de 'c' en la variable pajaro2 en minuscula.\n",
    "# Printea \"misma cantidad\" si esa condicion se cumple.\n",
    "# finalmente declara nuevamente pajaro2 remplazando los ultimos 3 caracteres de la palabra ('col') por el string ('ita')\n",
    "# haz un print de pajaro2 en minuscula \n",
    "# pregunta nuevamente si la cantidad de z's de la variable pajaro1 en minuscula es igual a la cantidad de c's pajaro2 en minuscula.\n",
    "# printea \"si\" si es el caso.\n",
    "pajaro1 = \"Zorzal\"\n",
    "pajaro2 = \"Chincol\"\n",
    "# resultado esperado print 1: 'son iguales'\n",
    "# resultado esperado print 2: 'misma cantidad'\n",
    "# resultado esperado print 3: 'chinita'\n",
    "# resultado esperado print 4: NADA NO HAY PRINT\n",
    "# codigo aca\n",
    "\n",
    "if len(pajaro1) + 1 == len(pajaro2):\n",
    "    print(\"son iguales\")\n",
    "\n",
    "cantidad_z_pajaro1_minuscula = pajaro1.lower().count('z')\n",
    "cantiodad_c_pajaro2_miniscula =  pajaro2.lower().count('c')\n",
    "\n",
    "if (cantidad_z_pajaro1_minuscula == cantiodad_c_pajaro2_miniscula):\n",
    "    print(\"misma cantidad\")\n",
    "\n",
    "pajaro2 = pajaro2.replace('col', 'ita')\n",
    "\n",
    "if (cantidad_z_pajaro1_minuscula == pajaro2.lower().count('c')):\n",
    "    print(\"si\")"
   ]
  },
  {
   "cell_type": "code",
   "execution_count": 35,
   "metadata": {},
   "outputs": [
    {
     "name": "stdout",
     "output_type": "stream",
     "text": [
      "ya piola\n"
     ]
    }
   ],
   "source": [
    "# si el precio es mayor a 30 printea 'la wea cara'\n",
    "# de lo contrario, si el precio es menor o igual a 30 pero mayor a 20\n",
    "# printea 'ya piola'\n",
    "# si es menor a 20 printea 'comprado'\n",
    "# Corre tres veces esta celda, una vez con el precio = 40, otro precio = 30, y otro precio = 5\n",
    "# resultados esperado\n",
    "# corrida 1: 'la wea cara'\n",
    "# corrida 2:'ya piola'\n",
    "# corrida 3: 'comprado'\n",
    "# codigo aca\n",
    "precio = 21\n",
    "\n",
    "if precio > 30:\n",
    "    print(\"la wea cara\")\n",
    "elif precio <= 30 and precio > 20:\n",
    "    print(\"ya piola\")\n",
    "else:\n",
    "    print(\"comprado\")"
   ]
  },
  {
   "cell_type": "code",
   "execution_count": 88,
   "metadata": {},
   "outputs": [
    {
     "name": "stdout",
     "output_type": "stream",
     "text": [
      "chiquita 4\n"
     ]
    }
   ],
   "source": [
    "# crea una variable que da un numero aleatorio entre 1 y 10\n",
    "# luego pregunta si esta variable es menor o igual que 5\n",
    "# de ser menor printea \"chiqutita\" mas el numero que dio la varaibl y de ser mayor printea \"mayorcita\" mas el numero de la variable\n",
    "# corre varias veces esta celda y fijate que el el resultado este variando de manera aleatoria\n",
    "import random\n",
    "\n",
    "numero_random = random.randint(1, 10)\n",
    "\n",
    "# if numero_random <= 5:\n",
    "#     print(\"chiquita \" + str(numero_random))\n",
    "# else:\n",
    "#     print(\"mayorcita \" + str(numero_random))\n",
    "\n",
    "print(\"chiquita\" if numero_random <= 5 else \"mayorcita\", numero_random)"
   ]
  }
 ],
 "metadata": {
  "interpreter": {
   "hash": "916dbcbb3f70747c44a77c7bcd40155683ae19c65e1c03b4aa3499c5328201f1"
  },
  "kernelspec": {
   "display_name": "Python 3.9.5 64-bit",
   "language": "python",
   "name": "python3"
  },
  "language_info": {
   "codemirror_mode": {
    "name": "ipython",
    "version": 3
   },
   "file_extension": ".py",
   "mimetype": "text/x-python",
   "name": "python",
   "nbconvert_exporter": "python",
   "pygments_lexer": "ipython3",
   "version": "3.9.5"
  },
  "orig_nbformat": 4
 },
 "nbformat": 4,
 "nbformat_minor": 2
}
