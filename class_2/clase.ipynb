{
 "cells": [
  {
   "cell_type": "code",
   "execution_count": 41,
   "metadata": {},
   "outputs": [
    {
     "name": "stdout",
     "output_type": "stream",
     "text": [
      "-1\n",
      "Gregorio\n",
      "True\n"
     ]
    }
   ],
   "source": [
    "## find() ## -1 si no encontro el indice\n",
    "a = \"marihuana\"\n",
    "print(a.find(\"k\"))\n",
    "# capitalize()\n",
    "nombre_goyo = \"gregorio\"\n",
    "print(nombre_goyo.capitalize())\n",
    "# ya vimos upper(), lower(), isupper(), islower()\n"
   ]
  },
  {
   "cell_type": "code",
   "execution_count": 56,
   "metadata": {},
   "outputs": [
    {
     "name": "stdout",
     "output_type": "stream",
     "text": [
      "True\n",
      "False\n",
      "True\n",
      "False\n"
     ]
    }
   ],
   "source": [
    "# isdigit() y el otro isalpa()\n",
    "x = \"123\"\n",
    "print(x.isdigit()) # True\n",
    "print(x.isalpha()) # False\n",
    "y = \"abc\"\n",
    "print(y.isalpha()) # True\n",
    "print(y.isdigit()) # False"
   ]
  },
  {
   "cell_type": "code",
   "execution_count": 63,
   "metadata": {},
   "outputs": [
    {
     "name": "stdout",
     "output_type": "stream",
     "text": [
      "3\n"
     ]
    }
   ],
   "source": [
    "# count() \n",
    "# me cuenta la cantidad de veces que se repite un caracter\n",
    "p = \"onomatopeyO\"\n",
    "print(p.count(\"o\"))"
   ]
  },
  {
   "cell_type": "code",
   "execution_count": 64,
   "metadata": {},
   "outputs": [
    {
     "name": "stdout",
     "output_type": "stream",
     "text": [
      "felipe\n"
     ]
    }
   ],
   "source": [
    "# replace()\n",
    "mi_nombre = \"fabian\"\n",
    "print(mi_nombre.replace(\"fabian\", \"felipe\"))"
   ]
  },
  {
   "cell_type": "code",
   "execution_count": 76,
   "metadata": {},
   "outputs": [
    {
     "name": "stdout",
     "output_type": "stream",
     "text": [
      "boeing boeing boeing\n"
     ]
    }
   ],
   "source": [
    "# puedo multiplicar un string ?? QUEEEE , si, es repetirlo.\n",
    "avion = \"boeing\"\n",
    "# print(avion.strip.__doc__)\n",
    "# stip() remueve los espacios en blanco al comienzo o al final de un string\n",
    "avion_tres_veces = (avion + \" \")*3\n",
    "print(avion_tres_veces.strip())"
   ]
  },
  {
   "cell_type": "code",
   "execution_count": 97,
   "metadata": {},
   "outputs": [
    {
     "name": "stdout",
     "output_type": "stream",
     "text": [
      "80\n",
      "320\n",
      "160.0\n"
     ]
    }
   ],
   "source": [
    "#### OPERACIONES ARITMETICAS Y MAS DE VARIABLES NUMERICAS\n",
    "balance = 100\n",
    "# en vez de escribir\n",
    "# balance = balance - 20\n",
    "# podemos reducir la idea a esto\n",
    "balance -= 20\n",
    "print(balance) # 80\n",
    "\n",
    "# esta misma logica se puede aplicar a otros operadores\n",
    "balance *= 4\n",
    "print(balance) # 320\n",
    "balance /= 2\n",
    "print(balance) # 160"
   ]
  },
  {
   "cell_type": "code",
   "execution_count": 100,
   "metadata": {},
   "outputs": [
    {
     "name": "stdout",
     "output_type": "stream",
     "text": [
      "8\n",
      "512\n"
     ]
    }
   ],
   "source": [
    "# Exponenciales en python sign **\n",
    "u = 2 ** 3\n",
    "print(u) # 8\n",
    "u **= 3\n",
    "print(u) # 512"
   ]
  },
  {
   "cell_type": "code",
   "execution_count": 108,
   "metadata": {},
   "outputs": [
    {
     "name": "stdout",
     "output_type": "stream",
     "text": [
      "2\n"
     ]
    }
   ],
   "source": [
    "# Floor division //\n",
    "# devuelve el entero mas cercano redondeado hacia abajo\n",
    "g = 9 // 4\n",
    "print(g) # 1"
   ]
  },
  {
   "cell_type": "code",
   "execution_count": 113,
   "metadata": {},
   "outputs": [
    {
     "name": "stdout",
     "output_type": "stream",
     "text": [
      "2\n",
      "False\n"
     ]
    }
   ],
   "source": [
    "# OPERADOR MODULO. MUY IMPORTANTE \"%\"\n",
    "\n",
    "print(8 % 3)\n",
    "\n",
    "# Saber si un numero X es paar o impar\n",
    "# Si es paar el residuo siempre es 0\n",
    "print(5 % 2 == 0)"
   ]
  },
  {
   "cell_type": "code",
   "execution_count": 116,
   "metadata": {},
   "outputs": [
    {
     "name": "stdout",
     "output_type": "stream",
     "text": [
      "False\n"
     ]
    }
   ],
   "source": [
    "### REPAZAR OPERADORES LOGICOS\n",
    "# == equivalencia\n",
    "# != difernecia o negacion\n",
    "# > mayor que\n",
    "# < menor que\n",
    "# >= mayor o igual que\n",
    "# <= menor o igual que\n",
    "\n",
    "print(8 < 8)"
   ]
  },
  {
   "cell_type": "code",
   "execution_count": 121,
   "metadata": {},
   "outputs": [
    {
     "name": "stdout",
     "output_type": "stream",
     "text": [
      "False\n",
      "False\n",
      "True\n",
      "True\n",
      "False\n",
      "True\n"
     ]
    }
   ],
   "source": [
    "## Operador logicos OR y AND\n",
    "# AND: se cumple si las dos condiciones son verdaderas\n",
    "# OR: se cumple si al menos una de las condiciones es verdadera\n",
    "\n",
    "print(True and False) # False porque una no es se cumple\n",
    "print(False and False) # False\n",
    "print(True and True) # True\n",
    "print(True or False) # True\n",
    "print(False or False) # False\n"
   ]
  },
  {
   "cell_type": "code",
   "execution_count": 124,
   "metadata": {},
   "outputs": [
    {
     "name": "stdout",
     "output_type": "stream",
     "text": [
      "True\n",
      "False\n",
      "False\n"
     ]
    }
   ],
   "source": [
    "# NOT ALGO\n",
    "print(not False) # True\n",
    "print(not True) # False\n",
    "print(not (not False)) # False"
   ]
  },
  {
   "cell_type": "code",
   "execution_count": 126,
   "metadata": {},
   "outputs": [
    {
     "name": "stdout",
     "output_type": "stream",
     "text": [
      "True\n",
      "True\n"
     ]
    }
   ],
   "source": [
    "## Algunas operaciones\n",
    "\n",
    "b = 4\n",
    "n = 2\n",
    "m = 3\n",
    "\n",
    "pregunta1 = b > n and m < b\n",
    "print(pregunta1) # True\n",
    "pregunta2 = n < 3 or m > b\n",
    "print(pregunta2) # True"
   ]
  },
  {
   "cell_type": "code",
   "execution_count": 127,
   "metadata": {},
   "outputs": [
    {
     "name": "stdout",
     "output_type": "stream",
     "text": [
      "25.0\n"
     ]
    }
   ],
   "source": [
    "## Precendencia de operadores\n",
    "# multiplicar 5 por la division de 10 en 2\n",
    "# esperado 25\n",
    "print(5 * (10 / 2))"
   ]
  },
  {
   "cell_type": "code",
   "execution_count": 129,
   "metadata": {},
   "outputs": [
    {
     "name": "stdout",
     "output_type": "stream",
     "text": [
      "16\n"
     ]
    }
   ],
   "source": [
    "# que creen que da este print\n",
    "print(2 ** (2 ** 2))"
   ]
  },
  {
   "cell_type": "code",
   "execution_count": 139,
   "metadata": {},
   "outputs": [
    {
     "name": "stdout",
     "output_type": "stream",
     "text": [
      "3\n",
      "4\n"
     ]
    }
   ],
   "source": [
    "import math\n",
    "# importar modulke\n",
    "## math.floor(), math.ceil()\n",
    "\n",
    "num1 = 3.5\n",
    "print(math.floor(num1)) # 3\n",
    "print(math.ceil(num1)) # 4 \n",
    "\n",
    "# print(dir(math))\n"
   ]
  },
  {
   "cell_type": "code",
   "execution_count": 143,
   "metadata": {},
   "outputs": [
    {
     "name": "stdout",
     "output_type": "stream",
     "text": [
      "4\n",
      "6\n"
     ]
    }
   ],
   "source": [
    "# round() abs()\n",
    "# round() rendondear numero\n",
    "# abs() sacar valor absolute\n",
    "\n",
    "print(round(num1))\n",
    "print(abs(2-8))\n"
   ]
  },
  {
   "cell_type": "code",
   "execution_count": 167,
   "metadata": {},
   "outputs": [
    {
     "name": "stdout",
     "output_type": "stream",
     "text": [
      "30\n",
      "0.47717060299959146\n"
     ]
    }
   ],
   "source": [
    "# importar modulo random\n",
    "import random\n",
    "# randint(a,b) un numero random entre a y b\n",
    "v = random.randint(1, 100)\n",
    "# numero random entre 0 y 1\n",
    "numero_random = random.random()\n",
    "print(v)\n",
    "print(numero_random)"
   ]
  },
  {
   "cell_type": "code",
   "execution_count": 171,
   "metadata": {},
   "outputs": [
    {
     "name": "stdout",
     "output_type": "stream",
     "text": [
      "True\n",
      "True\n"
     ]
    }
   ],
   "source": [
    "## Shortcut de operador mayor, mayor igual, menor y menor que\n",
    "print(3 > 2 and 2 > 1) # True\n",
    "print(3 > 2 > 1) # Shortcut, True tmb"
   ]
  },
  {
   "cell_type": "code",
   "execution_count": null,
   "metadata": {},
   "outputs": [],
   "source": []
  }
 ],
 "metadata": {
  "interpreter": {
   "hash": "916dbcbb3f70747c44a77c7bcd40155683ae19c65e1c03b4aa3499c5328201f1"
  },
  "kernelspec": {
   "display_name": "Python 3.9.5 64-bit",
   "language": "python",
   "name": "python3"
  },
  "language_info": {
   "codemirror_mode": {
    "name": "ipython",
    "version": 3
   },
   "file_extension": ".py",
   "mimetype": "text/x-python",
   "name": "python",
   "nbconvert_exporter": "python",
   "pygments_lexer": "ipython3",
   "version": "3.9.5"
  },
  "orig_nbformat": 4
 },
 "nbformat": 4,
 "nbformat_minor": 2
}
