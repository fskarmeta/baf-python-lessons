{
 "cells": [
  {
   "cell_type": "code",
   "execution_count": 12,
   "metadata": {},
   "outputs": [
    {
     "name": "stdout",
     "output_type": "stream",
     "text": [
      "holiii si esto es verdad y salgo en la consola\n",
      "Siii 4 es mayor que 2\n",
      "shii tiene ese largo\n",
      "sii tiene y\n",
      "aloja\n",
      "aloja2\n"
     ]
    }
   ],
   "source": [
    "##################### IF STATEMENTS.\n",
    "\n",
    "if True:\n",
    "    print('holiii si esto es verdad y salgo en la consola')\n",
    "\n",
    "if False:\n",
    "    print('hola que tal esto es falso y no salgo nunca :(')\n",
    "\n",
    "# condicion verdadera\n",
    "a = 4 > 2\n",
    "\n",
    "if a:\n",
    "    print(\"Siii 4 es mayor que 2\")\n",
    "    if len(\"hola\") == 4:\n",
    "        print(\"shii tiene ese largo\")\n",
    "    if \"goyito\".count(\"y\") == 1:\n",
    "        print(\"sii tiene y\")\n",
    "    if \"felipe\".count('k'):\n",
    "        print(\"se imprime esto?\")\n",
    "    if True:\n",
    "        print('aloja')\n",
    "        if True:\n",
    "            print('aloja2')\n",
    "\n"
   ]
  },
  {
   "cell_type": "code",
   "execution_count": 16,
   "metadata": {},
   "outputs": [
    {
     "name": "stdout",
     "output_type": "stream",
     "text": [
      "nooooo\n"
     ]
    }
   ],
   "source": [
    "### IF AND ELSE\n",
    "\n",
    "j = False\n",
    "\n",
    "if j:\n",
    "    print(\"siiii\")\n",
    "else:\n",
    "    print(\"nooooo\")"
   ]
  },
  {
   "cell_type": "code",
   "execution_count": 28,
   "metadata": {},
   "outputs": [
    {
     "name": "stdout",
     "output_type": "stream",
     "text": [
      "hola 2\n"
     ]
    }
   ],
   "source": [
    "## si se cumple un if con elifs se devolvera la primera condicion que se cumple y no seguira\n",
    "if 10 > 12:\n",
    "    print(\"hola 1\")\n",
    "    if 10 > 8:\n",
    "        print('asdasd')\n",
    "elif 10 > 8:\n",
    "    print('hola 2')\n",
    "elif 12 > 8:\n",
    "    print('hola 3')\n",
    "else:\n",
    "    print('hola 4')\n",
    "\n"
   ]
  },
  {
   "cell_type": "code",
   "execution_count": 30,
   "metadata": {},
   "outputs": [
    {
     "name": "stdout",
     "output_type": "stream",
     "text": [
      "Eligble\n"
     ]
    }
   ],
   "source": [
    "# and and and not en inf statement\n",
    "\n",
    "high_income = True\n",
    "good_credit = True\n",
    "student = False\n",
    "\n",
    "if high_income and good_credit and not student:\n",
    "    print(\"Eligble\")"
   ]
  },
  {
   "cell_type": "code",
   "execution_count": 33,
   "metadata": {},
   "outputs": [
    {
     "name": "stdout",
     "output_type": "stream",
     "text": [
      "string con algooooo\n",
      "numero positivo\n"
     ]
    }
   ],
   "source": [
    "# bonus prq el goyo queria\n",
    "# Valores falsy and truthy\n",
    "\n",
    "string_vacio = ''\n",
    "\n",
    "if string_vacio:\n",
    "    print('oli que tal')\n",
    "\n",
    "# string vacios son \"falsy\"\n",
    "\n",
    "numero_cero = 0\n",
    "\n",
    "if numero_cero:\n",
    "    print('oli q tal 2')\n",
    "\n",
    "# el 0 es \"falsy\"\n",
    "\n",
    "string_con_algo = \"wena cabres\"\n",
    "\n",
    "if string_con_algo:\n",
    "    print('string con algooooo')\n",
    "\n",
    "# un string con algo es \"truthy\"\n",
    "\n",
    "numero_cualquiera_positivo = 189\n",
    "\n",
    "# un numero positivo cualquiera es \"truthy\"\n",
    "if numero_cualquiera_positivo:\n",
    "    print('numero positivo')\n"
   ]
  }
 ],
 "metadata": {
  "interpreter": {
   "hash": "916dbcbb3f70747c44a77c7bcd40155683ae19c65e1c03b4aa3499c5328201f1"
  },
  "kernelspec": {
   "display_name": "Python 3.9.5 64-bit",
   "language": "python",
   "name": "python3"
  },
  "language_info": {
   "codemirror_mode": {
    "name": "ipython",
    "version": 3
   },
   "file_extension": ".py",
   "mimetype": "text/x-python",
   "name": "python",
   "nbconvert_exporter": "python",
   "pygments_lexer": "ipython3",
   "version": "3.9.5"
  },
  "orig_nbformat": 4
 },
 "nbformat": 4,
 "nbformat_minor": 2
}
