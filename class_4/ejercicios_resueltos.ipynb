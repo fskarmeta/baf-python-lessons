{
 "cells": [
  {
   "cell_type": "code",
   "execution_count": 24,
   "metadata": {},
   "outputs": [
    {
     "data": {
      "text/plain": [
       "'6 no es un Int'"
      ]
     },
     "execution_count": 24,
     "metadata": {},
     "output_type": "execute_result"
    }
   ],
   "source": [
    "# escribe una funcion llamada sum_two que recibe como parametro dos numeros y que retorna la suma.\n",
    "# si uno de los dos numeros no es realmente un numero , retorna el string 'El parametro (nombre de tu parametro) es incorrecto'.\n",
    "# Si ambos numeros no son realmente numeros, retorna 'Los parametros deben ser del tipo numero'\n",
    "\n",
    "def sum_two(num1, num2):\n",
    "    if type(num1) != int and type(num2) != int:\n",
    "        return 'Los parametros deben ser del tipo numero'\n",
    "    if type(num1) != int or type(num2) != int:\n",
    "        return f\"{num1 if type(num1) != int else num2} no es un Int\"\n",
    "    return num1 + num2\n",
    "\n",
    "sum_two('6',8)\n",
    "# print(type(1) == int)\n",
    "# OPERADOR TERNARIO DE PYTHON TIENE ESTA FORMA\n",
    "# X if CONDITION else Y\n",
    "# Es decir:\n",
    "# dame X si esta condicion se cumple de lo contrario dame Y"
   ]
  },
  {
   "cell_type": "code",
   "execution_count": 59,
   "metadata": {},
   "outputs": [
    {
     "data": {
      "text/plain": [
       "'ANIT AL AVAL ATINA'"
      ]
     },
     "execution_count": 59,
     "metadata": {},
     "output_type": "execute_result"
    }
   ],
   "source": [
    "## Escribe una funcion que recibe como parametro un string y retorna el string al revez y en mayuscula.\n",
    "\n",
    "def revert_and_uppercase(string):\n",
    "    return string[::-1].upper()\n",
    "\n",
    "# soluciona weona de baf\n",
    "\n",
    "def revert_and_uppercase(string):\n",
    "    return  ''.join(list(reversed(list(string)))).upper()\n",
    "\n",
    "# hola = 'hola que tal'\n",
    "# # string[a,b,c] a = el comienzo, b = final , c = paso (step)\n",
    "# print(hola[::-1])\n",
    "\n",
    "revert_and_uppercase('anita lava la tina')"
   ]
  },
  {
   "cell_type": "code",
   "execution_count": 67,
   "metadata": {},
   "outputs": [
    {
     "name": "stdout",
     "output_type": "stream",
     "text": [
      "1 NO ESTA EN LA LISTA\n",
      "nueva lista actual: [1]\n",
      "4 NO ESTA EN LA LISTA\n",
      "nueva lista actual: [1, 4]\n",
      "blame NO ESTA EN LA LISTA\n",
      "nueva lista actual: [1, 4, 'blame']\n",
      "4 YA ESTA EN LA LISTA\n",
      "nueva lista actual: [1, 4, 'blame']\n",
      "2 NO ESTA EN LA LISTA\n",
      "nueva lista actual: [1, 4, 'blame', 2]\n",
      "loves NO ESTA EN LA LISTA\n",
      "nueva lista actual: [1, 4, 'blame', 2, 'loves']\n",
      "hazer NO ESTA EN LA LISTA\n",
      "nueva lista actual: [1, 4, 'blame', 2, 'loves', 'hazer']\n",
      "2 YA ESTA EN LA LISTA\n",
      "nueva lista actual: [1, 4, 'blame', 2, 'loves', 'hazer']\n",
      "good NO ESTA EN LA LISTA\n",
      "nueva lista actual: [1, 4, 'blame', 2, 'loves', 'hazer', 'good']\n",
      "4 YA ESTA EN LA LISTA\n",
      "nueva lista actual: [1, 4, 'blame', 2, 'loves', 'hazer', 'good']\n",
      "1 YA ESTA EN LA LISTA\n",
      "nueva lista actual: [1, 4, 'blame', 2, 'loves', 'hazer', 'good']\n",
      "good YA ESTA EN LA LISTA\n",
      "nueva lista actual: [1, 4, 'blame', 2, 'loves', 'hazer', 'good']\n"
     ]
    },
    {
     "data": {
      "text/plain": [
       "[1, 4, 'blame', 2, 'loves', 'hazer', 'good']"
      ]
     },
     "execution_count": 67,
     "metadata": {},
     "output_type": "execute_result"
    }
   ],
   "source": [
    "# Escribe una funcion que recibe como parametro una lista y retorna la misma lista pero sin elementos repetidos.\n",
    "lista1 = [1,4,'blame', 4, 2, 'loves', 'hazer', 2, 'good', 4, 1, 'good']\n",
    "lista2 = ['chukao', 'zorzal', 'chercan', 'queltehue', 'zorzal', 'chukao', 'chincol']\n",
    "\n",
    "# set tienen la particularidad que no pueden haber elementos repetidos\n",
    "# solucion pasando lista a set, y set a lista.\n",
    "def single_element_list(arr):\n",
    "    mi_lista_a_set = set(arr)\n",
    "    return list(mi_lista_a_set)\n",
    "\n",
    "# loopear lista, guardar cada elemento en una nueva lista SI ES QUE NO EXISTE YA EN LA LISTA NUEVA, y retornar esa nueva lista.\n",
    "def single_element_list_with_loop(arr):\n",
    "    una_nueva_lista = []\n",
    "\n",
    "    for elemento in arr:\n",
    "        if elemento not in una_nueva_lista:\n",
    "            print(f\"{elemento} NO ESTA EN LA LISTA\")\n",
    "            una_nueva_lista.append(elemento)\n",
    "        else:\n",
    "            print(f\"{elemento} YA ESTA EN LA LISTA\")\n",
    "        print(f\"nueva lista actual: {una_nueva_lista}\")\n",
    "    return una_nueva_lista\n",
    "\n",
    "\n",
    "single_element_list_with_loop(lista1)\n",
    "#  [1,4,'blame', 4, 2, 'loves', 'hazer', 2, 'good', 4, 1, 'good']"
   ]
  },
  {
   "cell_type": "code",
   "execution_count": null,
   "metadata": {},
   "outputs": [],
   "source": []
  },
  {
   "cell_type": "code",
   "execution_count": 74,
   "metadata": {},
   "outputs": [
    {
     "data": {
      "text/plain": [
       "'avion es muy grande'"
      ]
     },
     "execution_count": 74,
     "metadata": {},
     "output_type": "execute_result"
    }
   ],
   "source": [
    "# Escribe una funcion que recibe dos strings, uno representando un objeto y otro un adjetivo\n",
    "# esta funcion siempre retornara una frase diciendo que \"X objeto es muy Y adjetivo.\"\n",
    "\n",
    "def concat_strings(str1, str2):\n",
    "    return str1 + ' es muy ' + str2\n",
    "\n",
    "obj_ejemplo = 'avion'\n",
    "adj_ejemplo = 'grande'\n",
    "\n",
    "concat_strings(obj_ejemplo, adj_ejemplo)"
   ]
  },
  {
   "cell_type": "code",
   "execution_count": 86,
   "metadata": {},
   "outputs": [
    {
     "name": "stdout",
     "output_type": "stream",
     "text": [
      "entro  1\n",
      "contador actual:  1\n",
      "entro  2\n",
      "contador actual:  3\n",
      "entro  3\n",
      "contador actual:  6\n",
      "entro  4\n",
      "contador actual:  10\n",
      "entro  5\n",
      "contador actual:  15\n"
     ]
    },
    {
     "data": {
      "text/plain": [
       "15"
      ]
     },
     "execution_count": 86,
     "metadata": {},
     "output_type": "execute_result"
    }
   ],
   "source": [
    "# escribe una funcion que al pasarle una lista de numeros devuelve la suma de todos esos numeros\n",
    "# (puedes usar un metodo de utilidad que existe, o, mas osadamente, hacer un loop)\n",
    "\n",
    "# easy y mas practica solucion (vida real)\n",
    "una_listita = [1,2,3,4,5]\n",
    "def sumar_lista(x):\n",
    "    return sum(x)\n",
    "\n",
    "# solucion larga y PORBABLMENTE LO QUE HACE SUM POR DETRAS DE TODAS FORMAS:\n",
    "# con loop.\n",
    "\n",
    "def sumar_lista_con_loop(es_una_lista_que_entra):\n",
    "    contador = 0\n",
    "\n",
    "    for num in una_listita:\n",
    "        print('entro ', num)\n",
    "        contador += num\n",
    "        print('contador actual: ', contador)\n",
    "    \n",
    "    return contador\n",
    "\n",
    "\n",
    "\n",
    "sumar_lista_con_loop([32, 123, 456, 43, 32, 16])"
   ]
  },
  {
   "cell_type": "code",
   "execution_count": 102,
   "metadata": {},
   "outputs": [
    {
     "name": "stdout",
     "output_type": "stream",
     "text": [
      "asd:  3\n",
      "asd:  3\n"
     ]
    }
   ],
   "source": [
    "# asd = 3\n",
    "\n",
    "# def sum_two_a_asd():\n",
    "#     asd = 10\n",
    "\n",
    "# print('asd: ', asd)\n",
    "# sum_two_a_asd()\n",
    "# print('asd: ', asd)\n",
    "# print('asd: ', asd)\n",
    "\n",
    "# asd += 7\n",
    "# print('le sume 7 a asd y ahora asd es: ', asd)\n",
    "# sum_two_a_asd()\n",
    "# print('asd: ', asd)\n"
   ]
  },
  {
   "cell_type": "code",
   "execution_count": null,
   "metadata": {},
   "outputs": [],
   "source": [
    "# escribe una funcion que acepta como parametro dos palabras\n",
    "# retorna una frase diciendo que nos indica cual de las dos palabras es mas larga en este formato:\n",
    "# la palabra (un parametro) es mas larga que la palabra (el otro parametro)"
   ]
  },
  {
   "cell_type": "code",
   "execution_count": null,
   "metadata": {},
   "outputs": [],
   "source": [
    "# escribe una funcion que recibe dos strings y retorna la primera mitad del primer parametro concatenada a la segunda.\n",
    "# si una palabra tiene un largo impaar , redondea la mitad hacia su entero mas grande\n",
    "# ejemplo: entra clau y goyo => retorna clyo\n",
    "# ejemplo2: entra avion y blame => retorna avibla\n"
   ]
  },
  {
   "cell_type": "code",
   "execution_count": null,
   "metadata": {},
   "outputs": [],
   "source": [
    "# declara una funcion que acepta una palabra y una letra en minusucula como parametro\n",
    "# retorna un numero que indica cuantas veces se puede encontrar esa letra (en mayscula o en minuscula)\n",
    "# si la letra no existe en la palabra, retorna el string 'no existe tal letra'\n",
    "# si la letra que entra no esta en mayuscula retorna 'por favor ingresa letra en mayuscula'\n",
    "# ejemplo 1: entra ukelele, l -> retorna 2\n",
    "# ejemplo 2: entra uKeLele, l -> retorna 2\n",
    "# ejemplo 3: entra RAMIRO, r -> retorna 2\n",
    "# ejemplo 4: entra Juan, k -> retorna 'no existe tal letra'\n",
    "# ejemplo 5: entra perro, R -> retorna 'por favor ingresa una letra en mayuscula'\n"
   ]
  },
  {
   "cell_type": "code",
   "execution_count": null,
   "metadata": {},
   "outputs": [],
   "source": [
    "# escribe una funcion que acepta 4 parametros\n",
    "# un producto (string), un precio (int), el minimo que estas dispuesta a pagar (int), el maximo estas dispuesta a pagar (int)\n",
    "# retorna 'Comprado' si el precio esta debajo de la mitad entre el minimo y maximo que estas dispuesto a pagar.\n",
    "# retorna 'Honestamente no lo comprare' si el precio esta sobre la mitad entre el minimo y el maximo que estas dispuesto a pagar.\n",
    "# retorna 'no se' si el precio esta justamente en la mitad entre el minimo y maximo que estas dispuesto a pagar.\n",
    "# retorna 'precio invalido' si alguno de los tres parametros Int es negativo."
   ]
  },
  {
   "cell_type": "code",
   "execution_count": null,
   "metadata": {},
   "outputs": [],
   "source": [
    "# declara una funcion que acepta dos parametros numeros y retorna su multiplicacion\n",
    "# declara otra funcion que acepta dos parametros numericos, y retrona el primero elevado al segundo.\n",
    "# declara una tercera funcion que acepta 3 parametros:\n",
    "# los primeros dos parametros son los numeros que iras a multiplicar y el tercero es al exponente que quieres elevar la suma.\n",
    "# usa en esta ultima funcion tus dos funciones usadas previamente y retorna el resultado de la elevacion de la multipliacion.\n"
   ]
  }
 ],
 "metadata": {
  "interpreter": {
   "hash": "916dbcbb3f70747c44a77c7bcd40155683ae19c65e1c03b4aa3499c5328201f1"
  },
  "kernelspec": {
   "display_name": "Python 3.9.5 64-bit",
   "language": "python",
   "name": "python3"
  },
  "language_info": {
   "codemirror_mode": {
    "name": "ipython",
    "version": 3
   },
   "file_extension": ".py",
   "mimetype": "text/x-python",
   "name": "python",
   "nbconvert_exporter": "python",
   "pygments_lexer": "ipython3",
   "version": "3.9.5"
  },
  "orig_nbformat": 4
 },
 "nbformat": 4,
 "nbformat_minor": 2
}
