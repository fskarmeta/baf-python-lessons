{
 "cells": [
  {
   "cell_type": "code",
   "execution_count": null,
   "metadata": {},
   "outputs": [],
   "source": [
    "## escribe una funcion llamada sum_two que recibe como parametro dos numeros y que retorna la suma.\n",
    "## si uno de los dos numeros no es realmente un numero , retorna el string 'El parametro (nombre de tu parametro) es incorrecto'.\n",
    "## Si ambos numeros no son realmente numeros, retorna 'Los parametros deben ser del tipo numero'\n"
   ]
  },
  {
   "cell_type": "code",
   "execution_count": null,
   "metadata": {},
   "outputs": [],
   "source": [
    "## Escribe una funcion que recibe como parametro un string y retorna el string al revez y en mayuscula.\n"
   ]
  },
  {
   "cell_type": "code",
   "execution_count": null,
   "metadata": {},
   "outputs": [],
   "source": [
    "# Escribe una funcion que recibe como parametro una lista y retorna la misma lista pero sin elementos repetidos.\n",
    "lista1 = [1,4,'blame', 4, 2, 'loves', 'hazer', 2, 'good', 4, 1 'good']\n",
    "lista2 = ['chukao', 'zorzal', 'chercan', 'queltehue', 'zoral', 'chukao', 'chincol']"
   ]
  },
  {
   "cell_type": "code",
   "execution_count": null,
   "metadata": {},
   "outputs": [],
   "source": [
    "# Escribe una funcion que recibe dos strings, uno representando un objeto y otro un adjetivo\n",
    "# esta funcion siempre retornara una frase diciendo que \"X objeto es muy Y adjetivo.\"\n",
    "obj_ejemplo = 'avion'\n",
    "adj_ejemplo = 'grande'"
   ]
  },
  {
   "cell_type": "code",
   "execution_count": null,
   "metadata": {},
   "outputs": [],
   "source": [
    "# escribe una funcion que al pasarle una lista de numeros devuelve la suma de todos esos numeros\n",
    "# (puedes usar un metodo de utilidad que existe, o, mas osadamente, hacer un loop)"
   ]
  },
  {
   "cell_type": "code",
   "execution_count": null,
   "metadata": {},
   "outputs": [],
   "source": [
    "# escribe una funcion que acepta como parametro dos palabras\n",
    "# retorna una frase diciendo que nos indica cual de las dos palabras es mas larga en este formato:\n",
    "# la palabra (un parametro) es mas larga que la palabra (el otro parametro)"
   ]
  },
  {
   "cell_type": "code",
   "execution_count": 15,
   "metadata": {},
   "outputs": [
    {
     "data": {
      "text/plain": [
       "'aviame'"
      ]
     },
     "execution_count": 15,
     "metadata": {},
     "output_type": "execute_result"
    }
   ],
   "source": [
    "# escribe una funcion que recibe dos strings y retorna la primera mitad del primer parametro concatenada a la segunda.\n",
    "# si una palabra tiene un largo impaar , redondea la mitad hacia su entero mas grande\n",
    "# ejemplo: entra clau y goyo => retorna clyo\n",
    "# ejemplo2: entra avion y blame => retorna aviame\n",
    "\n",
    "p1 = 'avion'\n",
    "p2 = 'blame'\n",
    "# aviame"
   ]
  },
  {
   "cell_type": "code",
   "execution_count": 5,
   "metadata": {},
   "outputs": [
    {
     "data": {
      "text/plain": [
       "'por favor ingresa una letra en minuscula'"
      ]
     },
     "execution_count": 5,
     "metadata": {},
     "output_type": "execute_result"
    }
   ],
   "source": [
    "# declara una funcion que acepta una palabra y una letra en minusucula como parametro\n",
    "# retorna un numero que indica cuantas veces se puede encontrar esa letra (en mayscula o en minuscula)\n",
    "# si la letra no existe en la palabra, retorna el string 'no existe tal letra'\n",
    "# si la letra que entra no esta en mayuscula retorna 'por favor ingresa letra en mayuscula'\n",
    "# ejemplo 1: entra ukelele, l -> retorna 2\n",
    "# ejemplo 2: entra uKeLele, l -> retorna 2\n",
    "# ejemplo 3: entra RAMIRO, r -> retorna 2\n",
    "# ejemplo 4: entra Juan, k -> retorna 'no existe tal letra'\n",
    "# ejemplo 5: entra perro, R -> retorna 'por favor ingresa una letra en minuscula'\n",
    "\n"
   ]
  },
  {
   "cell_type": "code",
   "execution_count": null,
   "metadata": {},
   "outputs": [],
   "source": [
    "# escribe una funcion que acepta 4 parametros\n",
    "# un producto (string), un precio (int), el minimo que estas dispuesta a pagar (int), el maximo estas dispuesta a pagar (int)\n",
    "# retorna 'Comprado' si el precio esta debajo de la mitad entre el minimo y maximo que estas dispuesto a pagar.\n",
    "# retorna 'Honestamente no lo comprare' si el precio esta sobre la mitad entre el minimo y el maximo que estas dispuesto a pagar.\n",
    "# retorna 'no se' si el precio esta justamente en la mitad entre el minimo y maximo que estas dispuesto a pagar.\n",
    "# retorna 'precio invalido' si alguno de los tres parametros Int es negativo."
   ]
  },
  {
   "cell_type": "code",
   "execution_count": null,
   "metadata": {},
   "outputs": [],
   "source": [
    "# declara una funcion que acepta dos parametros numeros y retorna su multiplicacion\n",
    "# declara otra funcion que acepta dos parametros numericos, y retrona el primero elevado al segundo.\n",
    "# declara una tercera funcion que acepta 3 parametros:\n",
    "# los primeros dos parametros son los numeros que iras a multiplicar y el tercero es al exponente que quieres elevar la suma.\n",
    "# usa en esta ultima funcion tus dos funciones usadas previamente y retorna el resultado de la elevacion de la multipliacion.\n"
   ]
  }
 ],
 "metadata": {
  "interpreter": {
   "hash": "916dbcbb3f70747c44a77c7bcd40155683ae19c65e1c03b4aa3499c5328201f1"
  },
  "kernelspec": {
   "display_name": "Python 3.9.5 64-bit",
   "language": "python",
   "name": "python3"
  },
  "language_info": {
   "codemirror_mode": {
    "name": "ipython",
    "version": 3
   },
   "file_extension": ".py",
   "mimetype": "text/x-python",
   "name": "python",
   "nbconvert_exporter": "python",
   "pygments_lexer": "ipython3",
   "version": "3.9.5"
  },
  "orig_nbformat": 4
 },
 "nbformat": 4,
 "nbformat_minor": 2
}
