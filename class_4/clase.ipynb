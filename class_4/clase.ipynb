{
 "cells": [
  {
   "cell_type": "code",
   "execution_count": 61,
   "metadata": {},
   "outputs": [
    {
     "name": "stdout",
     "output_type": "stream",
     "text": [
      "(1, 2, 3, 4, 5, 6, 7, 12, 53)\n",
      "28\n"
     ]
    }
   ],
   "source": [
    "## Tupla\n",
    "una_tupla = ('hazer', 'blame', 'trucho', 'baf', 'clau')\n",
    "una_tupla_num = (1,2,3,4,5,6,7)\n",
    "otra_tupla_num = (12,53)\n",
    "# ahora una tupla es piedra, no puedo agregar ni eliminar datos\n",
    "# puedo acceder al indice con [] y puedo sacar encontrar el indice con .index('baf')\n",
    "#puedo concatenar\n",
    "print(una_tupla_num + otra_tupla_num)\n",
    "#puedo sumar tupla numerica / sacar max / sacar min\n",
    "print(sum(una_tupla_num))\n"
   ]
  },
  {
   "cell_type": "code",
   "execution_count": 85,
   "metadata": {},
   "outputs": [
    {
     "name": "stdout",
     "output_type": "stream",
     "text": [
      "interseccion {'claudia'}\n",
      "union {'ro', 'chuckao', 'blame', 'trucho', 'pajaro', 'claudia', 'baf', 'hazer'}\n",
      "diferencia {'blame', 'baf', 'hazer'}\n"
     ]
    }
   ],
   "source": [
    "# Sets \n",
    "#hay que declarar el set\n",
    "esto_es_un_set = {1,2,3}\n",
    "# mas usual es declarar primero tu set\n",
    "nuestro_set = set()\n",
    "# gracia de los set es que solo contienen elementos unicos\n",
    "# puedo agregar, y remover elementos\n",
    "# remover con .remove()\n",
    "# agregar con .add()\n",
    "#  y puedo borrarla complemtante con .clear()\n",
    "nuestro_set.add(2)\n",
    "nuestro_set.add('claudia')\n",
    "nuestro_set.add('claudia')\n",
    "nuestro_set.add(2)\n",
    "nuestro_set.add('blame')\n",
    "nuestro_set.remove(2)\n",
    "# print(nuestro_set)\n",
    "a = {'claudia', 'blame', 'hazer', 'baf'}\n",
    "b = {'trucho', 'chuckao', 'claudia', 'ro', 'pajaro'}\n",
    "# interseccion (un AND seria)\n",
    "print('interseccion', a.intersection(b))\n",
    "# union // cluadia solo esta una vez\n",
    "print('union', a.union(b))\n",
    "# sets son desordenados y NO PUEDES ACCEDER A ELLOS CON EL INDICE\n",
    "# diferencia entre sets (OR)\n",
    "print('diferencia', a.difference(b))\n",
    "# print(dir(nuestro_set))"
   ]
  },
  {
   "cell_type": "code",
   "execution_count": 123,
   "metadata": {},
   "outputs": [
    {
     "name": "stdout",
     "output_type": "stream",
     "text": [
      "dijiste hola porque es kaka\n"
     ]
    }
   ],
   "source": [
    "###################################################################\n",
    "## PORFIN \n",
    "## FUNCIONEEEEEEEEEEEEEEEEEEEEEEEESSSSSSSSSSSSSSSSSSSSSSSSSSSSSSSSSSSSSSSSSSSSSSSSSSSSSSSSS\n",
    "\n",
    "\n",
    "# una funcion se declara con el keyword def y se le nombra como uno quiera, ojala siguiente convencion _\n",
    "# una funcion acepta parametros, todos los que uno quiera.\n",
    "\n",
    "# una funcion que suma dos numeros\n",
    "\n",
    "def sum_two_num(num1, num2):\n",
    "    suma = num1 + num2\n",
    "    return suma\n",
    "\n",
    "# el return retorna algo para poder asignado en una variable o ser printeado ej : print(sum_two_num(2,3))\n",
    "\n",
    "blame = sum_two_num(3,8)\n",
    "# print(blame)\n",
    "\n",
    "# una funcion que concatena strings \n",
    "# MUY IMPORTANTE, EL RETURN TERMINA LA FUNCION\n",
    "\n",
    "def concat_string(str1, str2, str3):\n",
    "    return f\"{str1} {str2} {str3}\"\n",
    "\n",
    "# print(concat_string('hola', 'queridos', 'amigos'))\n",
    "\n",
    "# def concat_string2(str1, str2, str3):\n",
    "#     if (str1 == 'hola'):\n",
    "#         return 'dijiste hola?'\n",
    "#     if (str2 == 'wena'):\n",
    "#         return 'dijiste wena?'\n",
    "#     return f\"{str1} {str2} {str3}\"\n",
    "\n",
    "kaka = 'kaka'\n",
    "\n",
    "def concat_string2(str1, str2, str3):\n",
    "    cual = ''\n",
    "    if str1 == 'hola' or str2 == 'wena':\n",
    "        if str1 == 'hola':\n",
    "            cual = str1\n",
    "        if str2 == 'wena':\n",
    "            cual = str2\n",
    "        return f\"dijiste {cual} porque es {kaka}\"\n",
    "    return f\"{str1} {str2} {str3}\"\n",
    "\n",
    "\n",
    "\n",
    "\n",
    "print(concat_string2('hola', 'amigo', 'weed'))"
   ]
  },
  {
   "cell_type": "code",
   "execution_count": 59,
   "metadata": {},
   "outputs": [
    {
     "name": "stdout",
     "output_type": "stream",
     "text": [
      "chupala hazer\n",
      "blame es hermozo\n",
      "trucho es hermozo\n",
      "baf es hermozo\n",
      "clau es hermoza\n",
      "chupala hazer\n",
      "blame es hermozo\n",
      "trucho es hermozo\n",
      "baf es hermozo\n",
      "clau es hermoza\n"
     ]
    }
   ],
   "source": [
    "# podria ser una lista tmb\n",
    "mi_tupla = ('hazer', 'blame', 'trucho', 'baf', 'clau')\n",
    "\n",
    "# loop en cada elemento de la tupla/lista\n",
    "for nickname in mi_tupla:\n",
    "    if nickname == 'hazer':\n",
    "        print('chupala ' + nickname)\n",
    "    elif nickname == 'clau':\n",
    "        print(nickname + ' es hermoza')\n",
    "    else:\n",
    "        print(nickname + ' es hermozo')\n",
    "\n",
    "# range(desde, hasta final - 1)\n",
    "# pueden remplazar el 5 por len(mi_tupla)\n",
    "# accedemos a cada elemento usando el indice\n",
    "for i in range(0,5):\n",
    "    if mi_tupla[i] == 'hazer':\n",
    "        print('chupala ' + mi_tupla[i])\n",
    "    elif mi_tupla[i] == 'clau':\n",
    "        print(mi_tupla[i] + ' es hermoza')\n",
    "    else:\n",
    "        print(mi_tupla[i] + ' es hermozo')\n"
   ]
  },
  {
   "cell_type": "code",
   "execution_count": 6,
   "metadata": {},
   "outputs": [
    {
     "name": "stdout",
     "output_type": "stream",
     "text": [
      "{'goyo': ['fab', 'blame'], 'clau': ['tito', 'trucho']}\n",
      "{'hazer': 2, 'baf': 3}\n",
      "['fab', 'blame']\n"
     ]
    }
   ],
   "source": [
    "## Dic\n",
    "\n",
    "un_dic = {'goyo': ['fab', 'blame'], 'clau': ['tito', 'trucho']}\n",
    "\n",
    "otro_dic = {'hazer': 2, 'baf': 3}\n",
    "print(un_dic)\n",
    "print(otro_dic)\n",
    "\n",
    "### acceder a los valores de goyo en un_dic\n",
    "print(un_dic['goyo'])"
   ]
  },
  {
   "cell_type": "code",
   "execution_count": null,
   "metadata": {},
   "outputs": [],
   "source": []
  }
 ],
 "metadata": {
  "interpreter": {
   "hash": "916dbcbb3f70747c44a77c7bcd40155683ae19c65e1c03b4aa3499c5328201f1"
  },
  "kernelspec": {
   "display_name": "Python 3.9.5 64-bit",
   "language": "python",
   "name": "python3"
  },
  "language_info": {
   "codemirror_mode": {
    "name": "ipython",
    "version": 3
   },
   "file_extension": ".py",
   "mimetype": "text/x-python",
   "name": "python",
   "nbconvert_exporter": "python",
   "pygments_lexer": "ipython3",
   "version": "3.9.5"
  },
  "orig_nbformat": 4
 },
 "nbformat": 4,
 "nbformat_minor": 2
}
