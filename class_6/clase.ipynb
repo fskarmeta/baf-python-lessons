{
 "cells": [
  {
   "cell_type": "code",
   "execution_count": 41,
   "metadata": {},
   "outputs": [
    {
     "name": "stdout",
     "output_type": "stream",
     "text": [
      "<class 'dict'>\n",
      "muy simpatico\n",
      "['baf', 'trucho', 'hazer', 'clau']\n",
      "{'baf': ['los gatos', 'los perros'], 'trucho': ['los computadores']}\n",
      "<function <lambda> at 0x7fa2d480e160>\n",
      "32\n"
     ]
    }
   ],
   "source": [
    "# Diccionarios , ej javascript se conocen como Objetos, y a veces se les llama \"mapas\"\n",
    "\n",
    "# Diccionario estan envueltos por {}\n",
    "# Contienen pares de valores llamados \"key\" : \"value\", osea, una llave con sus valores.\n",
    "# los values pueden ser de cualquier tipo: listas, numeros, sets, tuplas, funciones, etc.\n",
    "# puedes acceder a al value de un key en el diccionario llamando el nombres del diccionario y una de sus keys.\n",
    "# Ejemplo mi_diccionario[un_key] -> esto retornara su value\n",
    "\n",
    "mi_primer_dic = {}\n",
    "\n",
    "print(type(mi_primer_dic)) # class dict\n",
    "\n",
    "# puedes agegar keys y values simplemente declarando un key dentro del diccionario\n",
    "# si ya existia, lo rempalazara o si no lo agregara\n",
    "\n",
    "mi_primer_dic[\"blame\"] = \"muy simpatico\"\n",
    "mi_primer_dic[\"amigos_de_blame\"] = ['baf', 'trucho', 'hazer', 'clau']\n",
    "mi_primer_dic['amigos_de_amigos_de_blame'] = {'baf': ['los gatos', 'los perros'], 'trucho': ['los computadores']}\n",
    "mi_primer_dic['como_saluda_blame'] = lambda algo: f'holiwi soy el blame y me gusta el {algo}'\n",
    "mi_primer_dic['edad_del_blame'] = 32\n",
    "\n",
    "# mi_primer_dic['como_saluda_blame']('pico')\n",
    "# print(type(mi_primer_dic['amigos_de_blame']))\n",
    "# print(mi_primer_dic)\n",
    "# mi_primer_dic['amigos_de_amigos_de_blame']['trucho'] # los computadores\n",
    "\n",
    "#### Los diccionarios tienen methodos de utilidad\n",
    "# print(dir(mi_primer_dic))\n",
    "# donde los mas importantes son keys, values e items\n",
    "# te trae todos los keys del dic\n",
    "# print(mi_primer_dic.keys())\n",
    "# te trae todos los values del dic\n",
    "# print(mi_primer_dic.values())\n",
    "# genera tuplas (x,y) con los keys y valores de el dic\n",
    "# print(mi_primer_dic.items())\n",
    "\n",
    "# el for por defecto te traere como elementos los keys del dic\n",
    "# for element in mi_primer_dic:\n",
    "#     print(element)\n",
    "\n",
    "# for element in mi_primer_dic.values():\n",
    "#     print(element)\n",
    "\n",
    "\n",
    "un_dic = {'edad_blame': 32}\n",
    "\n",
    "#chequear si un value existe dentro de un dic\n",
    "if 'edad_blame' in un_dic:\n",
    "    print('existe dentro de dic')\n",
    "else:\n",
    "    print('no existe dentro de dic')"
   ]
  },
  {
   "cell_type": "code",
   "execution_count": 55,
   "metadata": {},
   "outputs": [
    {
     "name": "stdout",
     "output_type": "stream",
     "text": [
      "Chile no existe en dic, lo declaramos con el valor de uno\n",
      "Alemania no existe en dic, lo declaramos con el valor de uno\n",
      "Inglaterra no existe en dic, lo declaramos con el valor de uno\n",
      "Chile existe en dic le agregamos uno\n",
      "Chile existe en dic le agregamos uno\n",
      "Alemania existe en dic le agregamos uno\n",
      "Portugal no existe en dic, lo declaramos con el valor de uno\n",
      "Francia no existe en dic, lo declaramos con el valor de uno\n",
      "Francia existe en dic le agregamos uno\n",
      "{'Chile': 3, 'Alemania': 2, 'Inglaterra': 1, 'Portugal': 1, 'Francia': 2}\n",
      "3\n",
      "valores dic dict_values([3, 2, 1, 1, 2])\n",
      "True\n"
     ]
    }
   ],
   "source": [
    "# Un ejercicios para demostrar un tipo de utilidad de los diccionarios\n",
    "\n",
    "# De una lista de paises, retorna la cantidad de veces que se repite cada pais dentro de ella.\n",
    "\n",
    "paises = ['Chile', 'Alemania', 'Inglaterra', 'Chile',\n",
    "          'Chile', 'Alemania', 'Portugal', 'Francia', 'Francia']\n",
    "\n",
    "countries_dic = {}\n",
    "\n",
    "# tenemos una lista\n",
    "# tenemos un diccionario vacio que sirve como STORAGE\n",
    "# podemos agregar keys con values a un diccionario\n",
    "# podemos preguntar si existe un value en un diccionario\n",
    "\n",
    "for pais in paises:\n",
    "    if pais in countries_dic:\n",
    "        print(pais, 'existe en dic le agregamos uno')\n",
    "        countries_dic[pais] += 1\n",
    "    else:\n",
    "        print(pais, 'no existe en dic, lo declaramos con el valor de uno')\n",
    "        countries_dic[pais] = 1\n",
    "\n",
    "print(countries_dic)\n",
    "\n",
    "# cuantas veces esta chile en el dic\n",
    "print(countries_dic['Chile'])\n",
    "\n",
    "# los valores de el diccionario de paises\n",
    "print('valores dic', countries_dic.values())\n",
    "\n",
    "# suma de los valores deberia ser entonces igual al largo de paises en la lista\n",
    "print(sum(countries_dic.values()) == len(paises))\n"
   ]
  },
  {
   "cell_type": "code",
   "execution_count": null,
   "metadata": {},
   "outputs": [],
   "source": []
  }
 ],
 "metadata": {
  "interpreter": {
   "hash": "916dbcbb3f70747c44a77c7bcd40155683ae19c65e1c03b4aa3499c5328201f1"
  },
  "kernelspec": {
   "display_name": "Python 3.9.5 64-bit",
   "language": "python",
   "name": "python3"
  },
  "language_info": {
   "name": "python",
   "version": "3.9.5"
  },
  "orig_nbformat": 4
 },
 "nbformat": 4,
 "nbformat_minor": 2
}
