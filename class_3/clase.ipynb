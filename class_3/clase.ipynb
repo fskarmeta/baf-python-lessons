{
 "cells": [
  {
   "cell_type": "code",
   "execution_count": 100,
   "metadata": {},
   "outputs": [
    {
     "name": "stdout",
     "output_type": "stream",
     "text": [
      "['alfa', 3, 2.3, [1, 2, 3], 'pendejo', 'juanito', 'HaZeR']\n",
      "['alfa', 3, 2.3, [1, 2, 3], 'pendejo', 'juanito', 'HaZeR', 'Blame Noise']\n",
      "['alfa', 3, 'MANZANA', 2.3, [1, 2, 3], 'pendejo', 'juanito', 'HaZeR', 'Blame Noise']\n",
      "Blame Noise\n",
      "['alfa', 3, 'MANZANA', 2.3, [1, 2, 3], 'pendejo', 'juanito', 'HaZeR']\n",
      "1408\n",
      "hazer blame baf\n",
      "['el bafian ', ' el hazer ', ' el blame son mu', ' guapos, pero la mas guapa es la clau']\n",
      "['alfa', 'beta', 'epsylon', 'gama', 'omega']\n",
      "['Cien años de soledad', ' el perfume', ' el extranjero', ' el del ruso ese', ' mi lucha']\n"
     ]
    }
   ],
   "source": [
    "# Lista o mejor llamado Array , o Arreglo.\n",
    "a = \"juanito\"\n",
    "\n",
    "mi_primera_lista = ['alfa', 3, 2.3, [1,2,3], 'pendejo', a]\n",
    "\n",
    "# aceder a un elemento de la lista usando los indices, al igual que lo haciamos con los string\n",
    "primer_el_lista = mi_primera_lista[0] # alfa\n",
    "tercer_el_lista = mi_primera_lista[2] # 2.3\n",
    "segundo_char_del_primer_el = mi_primera_lista[0][1] # l\n",
    "c = mi_primera_lista[3][1] # 2\n",
    "\n",
    "# sacar el largo de lista con len()\n",
    "largo_de_mi_lista = len(mi_primera_lista)\n",
    "# print(largo_de_mi_lista)\n",
    "ultimo_el_de_lista = mi_primera_lista[largo_de_mi_lista - 1]\n",
    "\n",
    "# agregar elementos al final de la lista con .append()\n",
    "mi_primera_lista.append('HaZeR')\n",
    "print(mi_primera_lista)\n",
    "mi_primera_lista.append('Blame Noise')\n",
    "print(mi_primera_lista)\n",
    "# insertar un elemento donde se me de la gana con .insert()\n",
    "mi_primera_lista.insert(2, 'MANZANA')\n",
    "print(mi_primera_lista)\n",
    "\n",
    "# podemos sacar el ultimo elemento de la lista y podemos ademas guardarlo\n",
    "blame = mi_primera_lista.pop()\n",
    "print(blame) # \"Blame Noise\"\n",
    "\n",
    "# revertir orden de la lista, hacerlo antes, no retorna en si la lista revertida\n",
    "\n",
    "mi_primera_lista.reverse()\n",
    "# print(mi_primera_lista)\n",
    "# print(mi_primera_lista[0])\n",
    "# print(b)\n",
    "\n",
    "# sortear lista numerica con .sort()\n",
    "mi_lista_numerica = [5,2,8,5,13,53,123,451,745,3]\n",
    "mi_lista_numerica.sort()\n",
    "mi_lista_numerica.reverse()\n",
    "print(mi_primera_lista)\n",
    "\n",
    "# borrar un elemento de la con remove() usando su nombre real\n",
    "mi_primera_lista.remove('HaZeR')\n",
    "\n",
    "# borrar un elemento de la lista con su indice con del adelante\n",
    "del mi_primera_lista[0]\n",
    "\n",
    "\n",
    "# sumar todos los numeros de una lista con sum()\n",
    "suma = sum(mi_lista_numerica)\n",
    "print(suma)\n",
    "\n",
    "# otra_lista\n",
    "otra_lista = [\"hazer\", \"blame\", \"baf\"]\n",
    "\n",
    "# juntar elementos de lista en un string con join(), primero declaro con que lo quiero juntar.\n",
    "mi_lista_junta_como_string = ' '.join(otra_lista)\n",
    "print(mi_lista_junta_como_string) # str\n",
    "\n",
    "# de un string crear una lista con split(), sin parametro splitea espacios en blanco\n",
    "# con parametro splitea segun el caracter pasado al metodo.\n",
    "mi_string = \"el bafian y el hazer y el blame son muy guapos, pero la mas guapa es la clau\"\n",
    "print(mi_string.split('y'))\n",
    "\n",
    "## BONUS, sort() tambien funciona con string. Los ordena por orden alfabetico.\n",
    "mi_lista_de_strings = [\"gama\", \"beta\", \"alfa\", \"epsylon\", \"omega\"]\n",
    "mi_lista_de_strings.sort()\n",
    "print(mi_lista_de_strings)\n",
    "\n",
    "## Mas sobre split\n",
    "mis_libros = \"Cien años de soledad, el perfume, el extranjero, el del ruso ese, mi lucha\"\n",
    "lista_de_libros = mis_libros.split(',') # lo convierte en lista SIN LAS COMAS\n",
    "print(lista_de_libros)\n"
   ]
  },
  {
   "cell_type": "markdown",
   "metadata": {},
   "source": []
  },
  {
   "cell_type": "code",
   "execution_count": 116,
   "metadata": {},
   "outputs": [
    {
     "name": "stdout",
     "output_type": "stream",
     "text": [
      "['trucho', 'blame']\n"
     ]
    }
   ],
   "source": [
    "# Listas SON MUTABLES\n",
    "# mi_nueva_lista = ['blame', 'trucho', 'baf', 'hazer']\n",
    "# mi_nueva_lista[1] = 'blame'\n",
    "# mi_nueva_lista[0] = 'trucho'\n",
    "# print(mi_nueva_lista)\n",
    "##########################\n",
    "mi_nueva_lista2 = ['blame', 'trucho', 'baf', 'hazer']\n",
    "mi_variable_temporal = mi_nueva_lista2[1]\n",
    "mi_nueva_lista2[1] = mi_nueva_lista2[0]\n",
    "mi_nueva_lista2[0] = mi_variable_temporal\n",
    "# print(mi_nueva_lista2)\n",
    "\n",
    "\n",
    "### ULTRA MEGA BONUS FOR SENIOR DEVELOPERS 5+ exp 120.000+ USD a year\n",
    "una_lista = [\"blame\", \"trucho\"]\n",
    "## DESESTRUCTURAR LISTA o DESEMPAQUETAR\n",
    "una_var1, una_var2 = una_lista\n",
    "## QUEREMOS DAR VUELTA EN LA LISTA \"blame\" y \"trucho\" (sin variable temporal)\n",
    "una_lista[0], una_lista[1] = una_lista[1], una_lista[0]\n",
    "print(una_lista)"
   ]
  },
  {
   "cell_type": "code",
   "execution_count": 119,
   "metadata": {},
   "outputs": [
    {
     "data": {
      "text/plain": [
       "'buena amigos'"
      ]
     },
     "execution_count": 119,
     "metadata": {},
     "output_type": "execute_result"
    }
   ],
   "source": [
    "a = input('dame algo')\n",
    "a"
   ]
  },
  {
   "cell_type": "code",
   "execution_count": null,
   "metadata": {},
   "outputs": [],
   "source": []
  }
 ],
 "metadata": {
  "interpreter": {
   "hash": "916dbcbb3f70747c44a77c7bcd40155683ae19c65e1c03b4aa3499c5328201f1"
  },
  "kernelspec": {
   "display_name": "Python 3.9.5 64-bit",
   "language": "python",
   "name": "python3"
  },
  "language_info": {
   "codemirror_mode": {
    "name": "ipython",
    "version": 3
   },
   "file_extension": ".py",
   "mimetype": "text/x-python",
   "name": "python",
   "nbconvert_exporter": "python",
   "pygments_lexer": "ipython3",
   "version": "3.9.5"
  },
  "orig_nbformat": 4
 },
 "nbformat": 4,
 "nbformat_minor": 2
}
