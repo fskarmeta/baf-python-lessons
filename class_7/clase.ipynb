{
 "cells": [
  {
   "cell_type": "code",
   "execution_count": 4,
   "metadata": {},
   "outputs": [
    {
     "name": "stdout",
     "output_type": "stream",
     "text": [
      "wena chicos 0\n",
      "wena chicos 5\n",
      "wena chicos 2\n",
      "wena chicos 1\n"
     ]
    }
   ],
   "source": [
    "###### WHILE LOOP\n",
    "\n",
    "un_num = 10\n",
    "min_num = 0\n",
    "\n",
    "while min_num <= un_num:\n",
    "    print('wena chicos', min_num)\n",
    "    min_num = int(input('dame un numero'))\n"
   ]
  },
  {
   "cell_type": "code",
   "execution_count": 7,
   "metadata": {},
   "outputs": [],
   "source": [
    "### loop infinto\n",
    "\n",
    "while False:\n",
    "    print('algo')"
   ]
  },
  {
   "cell_type": "code",
   "execution_count": 40,
   "metadata": {},
   "outputs": [
    {
     "name": "stdout",
     "output_type": "stream",
     "text": [
      "PC SELECCIONO:  tijera TU SELECCIONASTE: tijera\n",
      "empate\n",
      "PUNTOS ## USUARIO:  0  ## MAQUINA:  0\n",
      "PC SELECCIONO:  papel TU SELECCIONASTE: papel\n",
      "empate\n",
      "PUNTOS ## USUARIO:  0  ## MAQUINA:  0\n",
      "PC SELECCIONO:  papel TU SELECCIONASTE: tijera\n",
      "PUNTOS ## USUARIO:  1  ## MAQUINA:  0\n",
      "PC SELECCIONO:  tijera TU SELECCIONASTE: papel\n",
      "PUNTOS ## USUARIO:  1  ## MAQUINA:  1\n",
      "PC SELECCIONO:  papel TU SELECCIONASTE: papel\n",
      "empate\n",
      "PUNTOS ## USUARIO:  1  ## MAQUINA:  1\n",
      "PC SELECCIONO:  piedra TU SELECCIONASTE: tijera\n",
      "PUNTOS ## USUARIO:  1  ## MAQUINA:  2\n",
      "PC SELECCIONO:  papel TU SELECCIONASTE: tijera\n",
      "PUNTOS ## USUARIO:  2  ## MAQUINA:  2\n",
      "PC SELECCIONO:  papel TU SELECCIONASTE: tijera\n",
      "PUNTOS ## USUARIO:  3  ## MAQUINA:  2\n",
      "GANASTEEEEEEEEE\n"
     ]
    }
   ],
   "source": [
    "import random\n",
    "import time\n",
    "# Jueguito de cachipun\n",
    "\n",
    "\n",
    "def game(mi_seleccion, pc_selection):\n",
    "    if mi_seleccion == 'tijera' and pc_selection == 'papel':\n",
    "        return True\n",
    "    if mi_seleccion == 'papel' and pc_selection == 'piedra':\n",
    "        return True\n",
    "    if mi_seleccion == 'piedra' and pc_selection == 'tijera':\n",
    "        return True\n",
    "    return False\n",
    "\n",
    "user_points = 0\n",
    "computer_points = 0\n",
    "\n",
    "while user_points < 3 and computer_points < 3:\n",
    "    time.sleep(0.2)\n",
    "    options = ['tijera', 'papel', 'piedra']\n",
    "    computer_selection = random.choice(options)\n",
    "    mi_seleccion = input('selecciona tijera, papel o piedra')\n",
    "    print('PC SELECCIONO: ', computer_selection, 'TU SELECCIONASTE:', mi_seleccion)\n",
    "    if mi_seleccion.lower() not in options:\n",
    "        print('selecciona una opcion valida: tijera, papel o piedra')\n",
    "    elif mi_seleccion == computer_selection:\n",
    "        print('empate')\n",
    "    else:\n",
    "        if game(mi_seleccion, computer_selection):\n",
    "            user_points += 1\n",
    "        else:\n",
    "            computer_points += 1\n",
    "    print('PUNTOS ## USUARIO: ', user_points, ' ## MAQUINA: ', computer_points)\n",
    "    if user_points == 3:\n",
    "        print(\"GANASTEEEEEEEEE\")\n",
    "    if (computer_points == 3):\n",
    "        print('LOOSER PERDISTE')\n",
    "   \n"
   ]
  },
  {
   "cell_type": "code",
   "execution_count": null,
   "metadata": {},
   "outputs": [],
   "source": []
  },
  {
   "cell_type": "code",
   "execution_count": null,
   "metadata": {},
   "outputs": [],
   "source": []
  },
  {
   "cell_type": "code",
   "execution_count": null,
   "metadata": {},
   "outputs": [],
   "source": []
  }
 ],
 "metadata": {
  "interpreter": {
   "hash": "916dbcbb3f70747c44a77c7bcd40155683ae19c65e1c03b4aa3499c5328201f1"
  },
  "kernelspec": {
   "display_name": "Python 3.9.5 64-bit",
   "language": "python",
   "name": "python3"
  },
  "language_info": {
   "codemirror_mode": {
    "name": "ipython",
    "version": 3
   },
   "file_extension": ".py",
   "mimetype": "text/x-python",
   "name": "python",
   "nbconvert_exporter": "python",
   "pygments_lexer": "ipython3",
   "version": "3.9.5"
  },
  "orig_nbformat": 4
 },
 "nbformat": 4,
 "nbformat_minor": 2
}
