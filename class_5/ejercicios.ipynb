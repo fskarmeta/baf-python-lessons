{
 "cells": [
  {
   "cell_type": "code",
   "execution_count": 10,
   "metadata": {},
   "outputs": [
    {
     "name": "stdout",
     "output_type": "stream",
     "text": [
      "1\n",
      "2\n",
      "Fizz\n",
      "3\n",
      "4\n",
      "Buzz\n",
      "Fizz\n",
      "6\n",
      "7\n",
      "8\n",
      "Fizz\n",
      "9\n",
      "Buzz\n",
      "11\n",
      "Fizz\n",
      "12\n",
      "13\n",
      "14\n",
      "FizzBuzz\n",
      "Fizz\n",
      "Buzz\n"
     ]
    }
   ],
   "source": [
    "# Vamos a hacer uno de los loops mas conocidos en el mundo de la programacion.\n",
    "# Se trata del juego fizzBuzz. Trata asi:\n",
    "# escribe una funcion llamada fizzbuzz que acepta como parametro un numero positivo (ej: 100)\n",
    "# por cada numero que entra PRINTEA:\n",
    "# 'Fizz' si el numero es divisible por 3\n",
    "# 'Buzz' si el numero es divisible por 5\n",
    "# 'FizzBuzz' si el numero es divisible por 3 y por 5\n",
    "# ejemplo: 1 2 Fizz 4 Buzz 6 7 8 Fizz 10 11 Fizz 13 14 FizzBuzz 16 etc..\n",
    "# Nota: Piensa bien en el orden que quieres hacer tus if statements y recuerda el operador modulo %.\n",
    "# Trata de no googlear porque es un clasico y esta en todos lados.\n",
    "\n",
    "def fizzbuzz(n):\n",
    "    for i in range(1,n + 1):\n",
    "        if i % 3 == 0 and i % 5 == 0:\n",
    "            print('FizzBuzz')\n",
    "        if i % 3 == 0:\n",
    "            print('Fizz')\n",
    "        if i % 5 == 0:\n",
    "            print('Buzz')\n",
    "        else:\n",
    "            print(i)\n",
    "\n",
    "fizzbuzz(15)"
   ]
  },
  {
   "cell_type": "code",
   "execution_count": null,
   "metadata": {},
   "outputs": [],
   "source": [
    "# Crear una funcion para validación de nombres de usuarios. \n",
    "# Dicho módulo, deberá cumplir con los siguientes criterios de aceptación:\n",
    "# El nombre de usuario debe contener un mínimo de 6 caracteres y un máximo de 12.\n",
    "# El nombre de usuario debe ser alfanumérico.\n",
    "# Nombre de usuario con menos de 6 caracteres, retorna el mensaje \"El nombre de usuario debe contener al menos 6 caracteres\".\n",
    "# Nombre de usuario con más de 12 caracteres, retorna el mensaje \"El nombre de usuario no puede contener más de 12 caracteres\".\n",
    "# Nombre de usuario con caracteres distintos a los alfanuméricos, retorna el mensaje \"El nombre de usuario puede contener solo letras y números\"\n",
    "# Nombre de usuario válido, retorna True.\n"
   ]
  },
  {
   "cell_type": "code",
   "execution_count": null,
   "metadata": {},
   "outputs": [],
   "source": [
    "# Escribe un programa que acepta dos input, una es una contraseña y la otra es la repeticion de la contraseña\n",
    "# retorna True si ambas contraseñas coinciden sin tener en cuenta maysuculas y minusculas.\n",
    "# Ej: Bafian y baFian // True\n",
    "# Ej: blame y vlame //  False"
   ]
  },
  {
   "cell_type": "code",
   "execution_count": null,
   "metadata": {},
   "outputs": [],
   "source": [
    "# Escribir una función que reciba una muestra de números en una lista \n",
    "# y devuelve otra lista con sus cuadrados.\n",
    "# Ej: [1,2,3,4] => [1, 4, 9, 16]"
   ]
  },
  {
   "cell_type": "code",
   "execution_count": 20,
   "metadata": {},
   "outputs": [
    {
     "name": "stdout",
     "output_type": "stream",
     "text": [
      "[4, 2, 6, 8, 9, 1, 12]\n",
      "ENTRAMOS A I !!!\n",
      "estamos en el indice de i 0 que representa el elemento 4\n",
      "/// J ///\n",
      "estamos en el indice de j 0 que representa el elemento 4\n",
      "/// J ///\n",
      "estamos en el indice de j 1 que representa el elemento 2\n",
      "2 es menor que 4 CAMBIO\n",
      "[2, 4, 6, 8, 9, 1, 12]\n",
      "/// J ///\n",
      "estamos en el indice de j 2 que representa el elemento 6\n",
      "/// J ///\n",
      "estamos en el indice de j 3 que representa el elemento 8\n",
      "/// J ///\n",
      "estamos en el indice de j 4 que representa el elemento 9\n",
      "/// J ///\n",
      "estamos en el indice de j 5 que representa el elemento 1\n",
      "1 es menor que 2 CAMBIO\n",
      "[1, 4, 6, 8, 9, 2, 12]\n",
      "/// J ///\n",
      "estamos en el indice de j 6 que representa el elemento 12\n",
      "ENTRAMOS A I !!!\n",
      "estamos en el indice de i 1 que representa el elemento 4\n",
      "/// J ///\n",
      "estamos en el indice de j 1 que representa el elemento 4\n",
      "/// J ///\n",
      "estamos en el indice de j 2 que representa el elemento 6\n",
      "/// J ///\n",
      "estamos en el indice de j 3 que representa el elemento 8\n",
      "/// J ///\n",
      "estamos en el indice de j 4 que representa el elemento 9\n",
      "/// J ///\n",
      "estamos en el indice de j 5 que representa el elemento 2\n",
      "2 es menor que 4 CAMBIO\n",
      "[1, 2, 6, 8, 9, 4, 12]\n",
      "/// J ///\n",
      "estamos en el indice de j 6 que representa el elemento 12\n",
      "ENTRAMOS A I !!!\n",
      "estamos en el indice de i 2 que representa el elemento 6\n",
      "/// J ///\n",
      "estamos en el indice de j 2 que representa el elemento 6\n",
      "/// J ///\n",
      "estamos en el indice de j 3 que representa el elemento 8\n",
      "/// J ///\n",
      "estamos en el indice de j 4 que representa el elemento 9\n",
      "/// J ///\n",
      "estamos en el indice de j 5 que representa el elemento 4\n",
      "4 es menor que 6 CAMBIO\n",
      "[1, 2, 4, 8, 9, 6, 12]\n",
      "/// J ///\n",
      "estamos en el indice de j 6 que representa el elemento 12\n",
      "ENTRAMOS A I !!!\n",
      "estamos en el indice de i 3 que representa el elemento 8\n",
      "/// J ///\n",
      "estamos en el indice de j 3 que representa el elemento 8\n",
      "/// J ///\n",
      "estamos en el indice de j 4 que representa el elemento 9\n",
      "/// J ///\n",
      "estamos en el indice de j 5 que representa el elemento 6\n",
      "6 es menor que 8 CAMBIO\n",
      "[1, 2, 4, 6, 9, 8, 12]\n",
      "/// J ///\n",
      "estamos en el indice de j 6 que representa el elemento 12\n",
      "ENTRAMOS A I !!!\n",
      "estamos en el indice de i 4 que representa el elemento 9\n",
      "/// J ///\n",
      "estamos en el indice de j 4 que representa el elemento 9\n",
      "/// J ///\n",
      "estamos en el indice de j 5 que representa el elemento 8\n",
      "8 es menor que 9 CAMBIO\n",
      "[1, 2, 4, 6, 8, 9, 12]\n",
      "/// J ///\n",
      "estamos en el indice de j 6 que representa el elemento 12\n",
      "ENTRAMOS A I !!!\n",
      "estamos en el indice de i 5 que representa el elemento 9\n",
      "/// J ///\n",
      "estamos en el indice de j 5 que representa el elemento 9\n",
      "/// J ///\n",
      "estamos en el indice de j 6 que representa el elemento 12\n",
      "ENTRAMOS A I !!!\n",
      "estamos en el indice de i 6 que representa el elemento 12\n",
      "/// J ///\n",
      "estamos en el indice de j 6 que representa el elemento 12\n"
     ]
    },
    {
     "data": {
      "text/plain": [
       "[1, 2, 4, 6, 8, 9, 12]"
      ]
     },
     "execution_count": 20,
     "metadata": {},
     "output_type": "execute_result"
    }
   ],
   "source": [
    "# Escribe una funcion que recibe una lista de numeros desordenada y retorna la lista ordenada ascendentemente\n",
    "# SIN UTILIZAR sort()\n",
    "# EJ: [4,2,6,8] => [2,4,6,8]\n",
    "\n",
    "def sort_arr(lista):\n",
    "    print(lista)\n",
    "    for i in range(0, len(lista)):\n",
    "        print('ENTRAMOS A I !!!')\n",
    "        print('estamos en el indice de i', i, 'que representa el elemento', lista[i])\n",
    "        for j in range (i, len(lista)):\n",
    "            print('/// J ///')\n",
    "            print('estamos en el indice de j', j, 'que representa el elemento', lista[j])\n",
    "            if (lista[j] < lista[i]):\n",
    "                print(lista[j], 'es menor que', lista[i], 'CAMBIO')\n",
    "                lista[i], lista[j] = lista[j], lista[i]\n",
    "                print(lista)\n",
    "    return lista\n",
    "\n",
    "sort_arr([4, 2, 6, 8, 9, 1, 12])\n"
   ]
  },
  {
   "cell_type": "markdown",
   "metadata": {},
   "source": []
  },
  {
   "cell_type": "code",
   "execution_count": null,
   "metadata": {},
   "outputs": [],
   "source": [
    "# Crear un módulo para validación de contraseñas. Dicho módulo, deberá cumplir con los siguientes criterios de aceptación:\n",
    "\n",
    "# La contraseña debe contener un mínimo de 8 caracteres.\n",
    "# Una contraseña debe contener letras minúsculas, mayúsculas, números y al menos 1 carácter no alfanumérico.\n",
    "# La contraseña no puede contener espacios en blanco.\n",
    "# Contraseña válida, retorna True.\n",
    "# Contraseña no válida, retorna el mensaje \"La contraseña elegida no es segura\".\n"
   ]
  },
  {
   "cell_type": "code",
   "execution_count": null,
   "metadata": {},
   "outputs": [],
   "source": [
    "# Escribe un programa que acepta dos input, una es una contraseña y la otra es la repeticion de la contraseña\n",
    "# retorna True si ambas contraseñas coinciden sin tener en cuenta maysuculas y minusculas.\n",
    "# Ej: Bafian y baFian // True\n",
    "# Ej: blame y vlame //  False"
   ]
  }
 ],
 "metadata": {
  "kernelspec": {
   "display_name": "Python 3",
   "language": "python",
   "name": "python3"
  },
  "language_info": {
   "codemirror_mode": {
    "name": "ipython",
    "version": 3
   },
   "file_extension": ".py",
   "mimetype": "text/x-python",
   "name": "python",
   "nbconvert_exporter": "python",
   "pygments_lexer": "ipython3",
   "version": "3.9.5"
  }
 },
 "nbformat": 4,
 "nbformat_minor": 2
}
