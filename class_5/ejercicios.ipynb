{
 "cells": [
  {
   "cell_type": "code",
   "execution_count": null,
   "metadata": {},
   "outputs": [],
   "source": [
    "# Vamos a hacer uno de los loops mas conocidos en el mundo de la programacion.\n",
    "# Se trata del juego fizzBuzz. Trata asi:\n",
    "# escribe una funcion llamada fizzbuzz que acepta como parametro un numero positivo (ej: 100)\n",
    "# por cada numero que entra PRINTEA:\n",
    "# 'Fizz' si el numero es divisible por 3\n",
    "# 'Buzz' si el numero es divisible por 5\n",
    "# 'FizzBuzz' si el numero es divisible por 3 y por 5\n",
    "# ejemplo: 1 2 Fizz 4 Buzz 6 7 8 Fizz 10 11 Fizz 13 14 FizzBuzz 16 etc..\n",
    "# Nota: Piensa bien en el orden que quieres hacer tus if statements y recuerda el operador modulo %.\n",
    "# Trata de no googlear porque es un clasico y esta en todos lados."
   ]
  },
  {
   "cell_type": "code",
   "execution_count": null,
   "metadata": {},
   "outputs": [],
   "source": [
    "# Crear una funcion para validación de nombres de usuarios. \n",
    "# Dicho módulo, deberá cumplir con los siguientes criterios de aceptación:\n",
    "# El nombre de usuario debe contener un mínimo de 6 caracteres y un máximo de 12.\n",
    "# El nombre de usuario debe ser alfanumérico.\n",
    "# Nombre de usuario con menos de 6 caracteres, retorna el mensaje \"El nombre de usuario debe contener al menos 6 caracteres\".\n",
    "# Nombre de usuario con más de 12 caracteres, retorna el mensaje \"El nombre de usuario no puede contener más de 12 caracteres\".\n",
    "# Nombre de usuario con caracteres distintos a los alfanuméricos, retorna el mensaje \"El nombre de usuario puede contener solo letras y números\"\n",
    "# Nombre de usuario válido, retorna True.\n"
   ]
  },
  {
   "cell_type": "code",
   "execution_count": null,
   "metadata": {},
   "outputs": [],
   "source": [
    "# Escribe un programa que acepta dos input, una es una contraseña y la otra es la repeticion de la contraseña\n",
    "# retorna True si ambas contraseñas coinciden sin tener en cuenta maysuculas y minusculas.\n",
    "# Ej: Bafian y baFian // True\n",
    "# Ej: blame y vlame //  False"
   ]
  },
  {
   "cell_type": "code",
   "execution_count": null,
   "metadata": {},
   "outputs": [],
   "source": [
    "# Escribir una función que reciba una muestra de números en una lista \n",
    "# y devuelve otra lista con sus cuadrados.\n",
    "# Ej: [1,2,3,4] => [1, 4, 9, 16]"
   ]
  },
  {
   "cell_type": "code",
   "execution_count": null,
   "metadata": {},
   "outputs": [],
   "source": [
    "# Escribe una funcion que recibe una lista de numeros desordenada y retorna la lista ordenada ascendentemente\n",
    "# SIN UTILIZAR sort()\n",
    "# EJ: [4,2,6,8] => [2,4,6,8]"
   ]
  }
 ],
 "metadata": {
  "language_info": {
   "name": "python"
  },
  "orig_nbformat": 4
 },
 "nbformat": 4,
 "nbformat_minor": 2
}
