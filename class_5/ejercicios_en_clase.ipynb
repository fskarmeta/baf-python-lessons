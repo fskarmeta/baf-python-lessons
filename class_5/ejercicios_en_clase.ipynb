{
 "cells": [
  {
   "cell_type": "code",
   "execution_count": null,
   "metadata": {},
   "outputs": [],
   "source": [
    "# Crear un módulo para validación de contraseñas. Dicho módulo, deberá cumplir con los siguientes criterios de aceptación:\n",
    "\n",
    "# La contraseña debe contener un mínimo de 8 caracteres.\n",
    "# Una contraseña debe contener letras minúsculas, mayúsculas, números y al menos 1 carácter no alfanumérico.\n",
    "# La contraseña no puede contener espacios en blanco.\n",
    "# Contraseña válida, retorna True.\n",
    "# Contraseña no válida, retorna el mensaje \"La contraseña elegida no es segura\"."
   ]
  },
  {
   "cell_type": "code",
   "execution_count": 1,
   "metadata": {},
   "outputs": [],
   "source": [
    "# Escribe un programa que acepta dos input, una es una contraseña y la otra es la repeticion de la contraseña\n",
    "# retorna True si ambas contraseñas coinciden sin tener en cuenta maysuculas y minusculas.\n",
    "# Ej: Bafian y baFian // True\n",
    "# Ej: blame y vlame //  False"
   ]
  }
 ],
 "metadata": {
  "interpreter": {
   "hash": "916dbcbb3f70747c44a77c7bcd40155683ae19c65e1c03b4aa3499c5328201f1"
  },
  "kernelspec": {
   "display_name": "Python 3.9.5 64-bit",
   "language": "python",
   "name": "python3"
  },
  "language_info": {
   "codemirror_mode": {
    "name": "ipython",
    "version": 3
   },
   "file_extension": ".py",
   "mimetype": "text/x-python",
   "name": "python",
   "nbconvert_exporter": "python",
   "pygments_lexer": "ipython3",
   "version": "3.9.5"
  },
  "orig_nbformat": 4
 },
 "nbformat": 4,
 "nbformat_minor": 2
}
